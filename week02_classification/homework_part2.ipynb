{
 "cells": [
  {
   "cell_type": "markdown",
   "metadata": {
    "id": "9rAGMZ0DFSEk"
   },
   "source": [
    "### Salary prediction, episode II: make it actually work (4 points)\n",
    "\n",
    "Your main task is to use some of the tricks you've learned on the network and analyze if you can improve __validation MAE__. Try __at least 3 options__ from the list below for a passing grade. Write a short report about what you have tried. More ideas = more bonus points. \n",
    "\n",
    "__Please be serious:__ \" plot learning curves in MAE/epoch, compare models based on optimal performance, test one change at a time. You know the drill :)\n",
    "\n",
    "You can use either __pytorch__ or __tensorflow__ or any other framework (e.g. pure __keras__). Feel free to adapt the seminar code for your needs. For tensorflow version, consider `seminar_tf2.ipynb` as a starting point.\n"
   ]
  },
  {
   "cell_type": "code",
   "source": [
    "import numpy as np\n",
    "import pandas as pd\n",
    "import matplotlib.pyplot as plt\n",
    "%matplotlib inline"
   ],
   "metadata": {
    "id": "JBUvGvchG4bQ",
    "executionInfo": {
     "status": "ok",
     "timestamp": 1643208907068,
     "user_tz": -180,
     "elapsed": 873,
     "user": {
      "displayName": "Игорь Красовский",
      "photoUrl": "https://lh3.googleusercontent.com/a/default-user=s64",
      "userId": "10386348939673216303"
     }
    }
   },
   "execution_count": 1,
   "outputs": []
  },
  {
   "cell_type": "code",
   "execution_count": 2,
   "metadata": {
    "id": "qDgsyB-fFSEo",
    "colab": {
     "base_uri": "https://localhost:8080/"
    },
    "executionInfo": {
     "status": "ok",
     "timestamp": 1643195970003,
     "user_tz": -180,
     "elapsed": 5900,
     "user": {
      "displayName": "Игорь Красовский",
      "photoUrl": "https://lh3.googleusercontent.com/a/default-user=s64",
      "userId": "10386348939673216303"
     }
    },
    "outputId": "7d30edfd-48ac-4e06-9989-7c2e6c3966ce"
   },
   "outputs": [
    {
     "name": "stdout",
     "output_type": "stream",
     "text": [
      "--2022-01-29 16:33:18--  https://ysda-seminars.s3.eu-central-1.amazonaws.com/Train_rev1.zip\r\n",
      "Resolving ysda-seminars.s3.eu-central-1.amazonaws.com (ysda-seminars.s3.eu-central-1.amazonaws.com)... 52.219.171.162\r\n",
      "Connecting to ysda-seminars.s3.eu-central-1.amazonaws.com (ysda-seminars.s3.eu-central-1.amazonaws.com)|52.219.171.162|:443... connected.\r\n",
      "HTTP request sent, awaiting response... 200 OK\r\n",
      "Length: 128356352 (122M) [application/zip]\r\n",
      "Saving to: ‘Train_rev1.zip’\r\n",
      "\r\n",
      "Train_rev1.zip      100%[===================>] 122.41M  64.6MB/s    in 1.9s    \r\n",
      "\r\n",
      "2022-01-29 16:33:21 (64.6 MB/s) - ‘Train_rev1.zip’ saved [128356352/128356352]\r\n",
      "\r\n",
      "Archive:  Train_rev1.zip\r\n",
      "  inflating: Train_rev1.csv          \r\n"
     ]
    },
    {
     "data": {
      "text/plain": "(244768, 12)"
     },
     "execution_count": 2,
     "metadata": {},
     "output_type": "execute_result"
    }
   ],
   "source": [
    "!wget https://ysda-seminars.s3.eu-central-1.amazonaws.com/Train_rev1.zip\n",
    "!unzip Train_rev1.zip\n",
    "data = pd.read_csv(\"./Train_rev1.csv\", index_col=None)\n",
    "data.shape"
   ]
  },
  {
   "cell_type": "code",
   "source": [
    "data['Log1pSalary'] = np.log1p(data['SalaryNormalized']).astype('float32')\n",
    "\n",
    "plt.figure(figsize=[8, 4])\n",
    "plt.subplot(1, 2, 1)\n",
    "plt.hist(data[\"SalaryNormalized\"], bins=20);\n",
    "\n",
    "plt.subplot(1, 2, 2)\n",
    "plt.hist(data['Log1pSalary'], bins=20);\n"
   ],
   "metadata": {
    "colab": {
     "base_uri": "https://localhost:8080/",
     "height": 265
    },
    "id": "ruDGSnc4HG6Z",
    "executionInfo": {
     "status": "ok",
     "timestamp": 1643195971877,
     "user_tz": -180,
     "elapsed": 1878,
     "user": {
      "displayName": "Игорь Красовский",
      "photoUrl": "https://lh3.googleusercontent.com/a/default-user=s64",
      "userId": "10386348939673216303"
     }
    },
    "outputId": "9db74b4e-9d46-4b01-be7b-90f2b75e2a9f"
   },
   "execution_count": 4,
   "outputs": [
    {
     "data": {
      "text/plain": "<Figure size 576x288 with 2 Axes>",
      "image/png": "[encoded data removed]"
     },
     "metadata": {
      "needs_background": "light"
     },
     "output_type": "display_data"
    }
   ]
  },
  {
   "cell_type": "code",
   "source": [
    "text_columns = [\"Title\", \"FullDescription\"]\n",
    "categorical_columns = [\"Category\", \"Company\", \"LocationNormalized\", \"ContractType\", \"ContractTime\"]\n",
    "TARGET_COLUMN = \"Log1pSalary\"\n",
    "\n",
    "data[categorical_columns] = data[categorical_columns].fillna('NaN') # cast missing values to string \"NaN\"\n",
    "\n",
    "data.sample(3)"
   ],
   "metadata": {
    "colab": {
     "base_uri": "https://localhost:8080/",
     "height": 326
    },
    "id": "UzKvrMVtHMLV",
    "executionInfo": {
     "status": "ok",
     "timestamp": 1643195971878,
     "user_tz": -180,
     "elapsed": 7,
     "user": {
      "displayName": "Игорь Красовский",
      "photoUrl": "https://lh3.googleusercontent.com/a/default-user=s64",
      "userId": "10386348939673216303"
     }
    },
    "outputId": "7537ac16-11c3-4252-ea83-5193f2a07601"
   },
   "execution_count": 5,
   "outputs": [
    {
     "data": {
      "text/plain": "             Id                                         Title  \\\n98818  69505390             PMLD Teachers Required in Lambeth   \n72507  68847273  IT Technical Helpdesk Agent (CCNA / Servers)   \n36933  68285824              Account Executive  Healthcare PR   \n\n                                         FullDescription  \\\n98818  We are currently seeking qualified, dedicated ...   \n72507  IT Technical Helpdesk Agent (CCNA / Servers) *...   \n36933  A thriving Healthcare PR team at this global a...   \n\n                                             LocationRaw LocationNormalized  \\\n98818                                            Lambeth            Lambeth   \n72507  London,West London,Wembley,Uxbridge,Slough,Hay...             London   \n36933                                             London             London   \n\n      ContractType ContractTime                 Company  \\\n98818    full_time     contract        Capita Education   \n72507          NaN    permanent     TRS Consulting  Ltd   \n36933          NaN    permanent  Fresh Connect  Limited   \n\n                        Category             SalaryRaw  SalaryNormalized  \\\n98818              Teaching Jobs     120 - 140 per day             31200   \n72507                    IT Jobs  22K - 25K + Benefits             23500   \n36933  Healthcare & Nursing Jobs          22k - 26k pa             24000   \n\n                  SourceName  Log1pSalary  \n98818  jobs.newstatesman.com    10.348206  \n72507       londonjobs.co.uk    10.064798  \n36933        emedcareers.com    10.085851  ",
      "text/html": "<div>\n<style scoped>\n    .dataframe tbody tr th:only-of-type {\n        vertical-align: middle;\n    }\n\n    .dataframe tbody tr th {\n        vertical-align: top;\n    }\n\n    .dataframe thead th {\n        text-align: right;\n    }\n</style>\n<table border=\"1\" class=\"dataframe\">\n  <thead>\n    <tr style=\"text-align: right;\">\n      <th></th>\n      <th>Id</th>\n      <th>Title</th>\n      <th>FullDescription</th>\n      <th>LocationRaw</th>\n      <th>LocationNormalized</th>\n      <th>ContractType</th>\n      <th>ContractTime</th>\n      <th>Company</th>\n      <th>Category</th>\n      <th>SalaryRaw</th>\n      <th>SalaryNormalized</th>\n      <th>SourceName</th>\n      <th>Log1pSalary</th>\n    </tr>\n  </thead>\n  <tbody>\n    <tr>\n      <th>98818</th>\n      <td>69505390</td>\n      <td>PMLD Teachers Required in Lambeth</td>\n      <td>We are currently seeking qualified, dedicated ...</td>\n      <td>Lambeth</td>\n      <td>Lambeth</td>\n      <td>full_time</td>\n      <td>contract</td>\n      <td>Capita Education</td>\n      <td>Teaching Jobs</td>\n      <td>120 - 140 per day</td>\n      <td>31200</td>\n      <td>jobs.newstatesman.com</td>\n      <td>10.348206</td>\n    </tr>\n    <tr>\n      <th>72507</th>\n      <td>68847273</td>\n      <td>IT Technical Helpdesk Agent (CCNA / Servers)</td>\n      <td>IT Technical Helpdesk Agent (CCNA / Servers) *...</td>\n      <td>London,West London,Wembley,Uxbridge,Slough,Hay...</td>\n      <td>London</td>\n      <td>NaN</td>\n      <td>permanent</td>\n      <td>TRS Consulting  Ltd</td>\n      <td>IT Jobs</td>\n      <td>22K - 25K + Benefits</td>\n      <td>23500</td>\n      <td>londonjobs.co.uk</td>\n      <td>10.064798</td>\n    </tr>\n    <tr>\n      <th>36933</th>\n      <td>68285824</td>\n      <td>Account Executive  Healthcare PR</td>\n      <td>A thriving Healthcare PR team at this global a...</td>\n      <td>London</td>\n      <td>London</td>\n      <td>NaN</td>\n      <td>permanent</td>\n      <td>Fresh Connect  Limited</td>\n      <td>Healthcare &amp; Nursing Jobs</td>\n      <td>22k - 26k pa</td>\n      <td>24000</td>\n      <td>emedcareers.com</td>\n      <td>10.085851</td>\n    </tr>\n  </tbody>\n</table>\n</div>"
     },
     "execution_count": 5,
     "metadata": {},
     "output_type": "execute_result"
    }
   ]
  },
  {
   "cell_type": "code",
   "source": [
    "import nltk\n",
    "\n",
    "from nltk.tokenize import RegexpTokenizer\n",
    "\n",
    "tokenizer = RegexpTokenizer(r'\\w+')\n",
    "def process_tokens(sentence):\n",
    "  return ' '.join(tokenizer.tokenize(str(sentence).lower()))\n",
    "data[['FullDescription', 'Title']].fillna('NA', inplace=True)\n",
    "data['FullDescriptionTokenized'] = data['FullDescription'].apply(process_tokens)\n",
    "data['TitleTokenized'] = data['Title'].apply(process_tokens)\n",
    "data[['FullDescription', 'Title']] = data[['FullDescriptionTokenized', 'TitleTokenized']]\n",
    "data.drop(['FullDescriptionTokenized', 'TitleTokenized'], axis=1, inplace=True)"
   ],
   "metadata": {
    "colab": {
     "base_uri": "https://localhost:8080/"
    },
    "id": "z19fB9I7He3A",
    "executionInfo": {
     "status": "ok",
     "timestamp": 1643196003418,
     "user_tz": -180,
     "elapsed": 31545,
     "user": {
      "displayName": "Игорь Красовский",
      "photoUrl": "https://lh3.googleusercontent.com/a/default-user=s64",
      "userId": "10386348939673216303"
     }
    },
    "outputId": "4a78a34a-1acc-4d82-e699-9b76ce2509e5"
   },
   "execution_count": 6,
   "outputs": [
    {
     "name": "stderr",
     "output_type": "stream",
     "text": [
      "/tmp/ipykernel_11/3972121404.py:8: SettingWithCopyWarning: \n",
      "A value is trying to be set on a copy of a slice from a DataFrame\n",
      "\n",
      "See the caveats in the documentation: https://pandas.pydata.org/pandas-docs/stable/user_guide/indexing.html#returning-a-view-versus-a-copy\n",
      "  data[['FullDescription', 'Title']].fillna('NA', inplace=True)\n"
     ]
    }
   ]
  },
  {
   "cell_type": "code",
   "source": [
    "from sklearn.feature_extraction import DictVectorizer\n",
    "from collections import Counter\n",
    "\n",
    "# we only consider top-1k most frequent companies to minimize memory usage\n",
    "top_companies, top_counts = zip(*Counter(data['Company']).most_common(1000))\n",
    "recognized_companies = set(top_companies)\n",
    "data[\"Company\"] = data[\"Company\"].apply(lambda comp: comp if comp in recognized_companies else \"Other\")\n",
    "\n",
    "categorical_vectorizer = DictVectorizer(dtype=np.float32, sparse=False)\n",
    "categorical_vectorizer.fit(data[categorical_columns].apply(dict, axis=1))"
   ],
   "metadata": {
    "colab": {
     "base_uri": "https://localhost:8080/"
    },
    "id": "K4ccfN_RP2D3",
    "executionInfo": {
     "status": "ok",
     "timestamp": 1643196011613,
     "user_tz": -180,
     "elapsed": 8207,
     "user": {
      "displayName": "Игорь Красовский",
      "photoUrl": "https://lh3.googleusercontent.com/a/default-user=s64",
      "userId": "10386348939673216303"
     }
    },
    "outputId": "1fdf42fa-2d5d-4131-938a-a78d2115a3ce"
   },
   "execution_count": 7,
   "outputs": [
    {
     "data": {
      "text/plain": "DictVectorizer(dtype=<class 'numpy.float32'>, sparse=False)"
     },
     "execution_count": 7,
     "metadata": {},
     "output_type": "execute_result"
    }
   ]
  },
  {
   "cell_type": "code",
   "source": [
    "from sklearn.model_selection import train_test_split\n",
    "\n",
    "data_train, data_val = train_test_split(data, test_size=0.2, random_state=42)\n",
    "data_train.index = range(len(data_train))\n",
    "data_val.index = range(len(data_val))\n",
    "\n",
    "print(\"Train size = \", len(data_train))\n",
    "print(\"Validation size = \", len(data_val))"
   ],
   "metadata": {
    "colab": {
     "base_uri": "https://localhost:8080/"
    },
    "id": "gy_EWWQzNSQJ",
    "executionInfo": {
     "status": "ok",
     "timestamp": 1643196011614,
     "user_tz": -180,
     "elapsed": 15,
     "user": {
      "displayName": "Игорь Красовский",
      "photoUrl": "https://lh3.googleusercontent.com/a/default-user=s64",
      "userId": "10386348939673216303"
     }
    },
    "outputId": "01f29c42-203d-4da6-f752-b3eaa4e7da32"
   },
   "execution_count": 8,
   "outputs": [
    {
     "name": "stdout",
     "output_type": "stream",
     "text": [
      "Train size =  195814\n",
      "Validation size =  48954\n"
     ]
    }
   ]
  },
  {
   "cell_type": "code",
   "source": [
    "from sklearn.feature_extraction.text import CountVectorizer\n",
    "count_vect = CountVectorizer(decode_error='ignore', lowercase=False, min_df=10)\n",
    "count_vect.fit(data_train.FullDescription + ' ' + data_train.Title)"
   ],
   "metadata": {
    "colab": {
     "base_uri": "https://localhost:8080/"
    },
    "id": "ImGsOp1SJ_EW",
    "executionInfo": {
     "status": "ok",
     "timestamp": 1643196049304,
     "user_tz": -180,
     "elapsed": 37703,
     "user": {
      "displayName": "Игорь Красовский",
      "photoUrl": "https://lh3.googleusercontent.com/a/default-user=s64",
      "userId": "10386348939673216303"
     }
    },
    "outputId": "a763e23d-7d13-4aa6-ad48-22fdcbc02d9e"
   },
   "execution_count": 9,
   "outputs": [
    {
     "data": {
      "text/plain": "CountVectorizer(decode_error='ignore', lowercase=False, min_df=10)"
     },
     "execution_count": 9,
     "metadata": {},
     "output_type": "execute_result"
    }
   ]
  },
  {
   "cell_type": "code",
   "source": [
    "import torch\n",
    "import tqdm\n",
    "\n",
    "BATCH_SIZE = 32\n",
    "EPOCHS = 10\n",
    "DEVICE = torch.device('cuda' if torch.cuda.is_available() else 'cpu')\n",
    "\n",
    "def to_tensors(batch, device):\n",
    "    batch_tensors = dict()\n",
    "    for key, arr in batch.items():\n",
    "        if key in [\"FullDescription\", \"Title\"]:\n",
    "            batch_tensors[key] = torch.tensor(arr, device=device, dtype=torch.int64)\n",
    "        else:\n",
    "            batch_tensors[key] = torch.tensor(arr, device=device)\n",
    "    return batch_tensors\n",
    "\n",
    "def make_batch(data, word_dropout=0, device=DEVICE):\n",
    "    \"\"\"\n",
    "    Creates a keras-friendly dict from the batch data.\n",
    "    :param word_dropout: replaces token index with UNK_IX with this probability\n",
    "    :returns: a dict with {'title' : int64[batch, title_max_len]\n",
    "    \"\"\"\n",
    "    batch = {}\n",
    "    batch[\"Title\"] = count_vect.transform(data.Title).todense()\n",
    "    batch[\"FullDescription\"] = count_vect.transform(data.FullDescription).todense()\n",
    "    batch['Categorical'] = categorical_vectorizer.transform(data[categorical_columns].apply(dict, axis=1))\n",
    "    \n",
    "    if TARGET_COLUMN in data.columns:\n",
    "        batch[TARGET_COLUMN] = data[TARGET_COLUMN].values\n",
    "    \n",
    "    return to_tensors(batch, device)\n",
    "\n",
    "def iterate_minibatches(data, batch_size=256, shuffle=True, cycle=False, device=DEVICE, **kwargs):\n",
    "    \"\"\" iterates minibatches of data in random order \"\"\"\n",
    "    while True:\n",
    "        indices = np.arange(len(data))\n",
    "        if shuffle:\n",
    "            indices = np.random.permutation(indices)\n",
    "\n",
    "        for start in range(0, len(indices), batch_size):\n",
    "            batch = make_batch(data.iloc[indices[start : start + batch_size]], **kwargs)\n",
    "            yield batch\n",
    "        \n",
    "        if not cycle: break\n",
    "\n",
    "def print_metrics(model, data, batch_size=BATCH_SIZE, name=\"\", **kw):\n",
    "    squared_error = abs_error = num_samples = 0.0\n",
    "    model.eval()\n",
    "    with torch.no_grad():\n",
    "        for batch in iterate_minibatches(data, batch_size=batch_size, shuffle=False, **kw):\n",
    "            batch_pred = model(batch)\n",
    "            squared_error += torch.sum(torch.square(batch_pred - batch[TARGET_COLUMN]))\n",
    "            abs_error += torch.sum(torch.abs(batch_pred - batch[TARGET_COLUMN]))\n",
    "            num_samples += len(batch_pred)\n",
    "    mse = squared_error.detach().cpu().numpy() / num_samples\n",
    "    mae = abs_error.detach().cpu().numpy() / num_samples\n",
    "    print(\"%s results:\" % (name or \"\"))\n",
    "    print(\"Mean square error: %.5f\" % mse)\n",
    "    print(\"Mean absolute error: %.5f\" % mae)\n",
    "    return mse, mae\n"
   ],
   "metadata": {
    "id": "xtqcUb8lPqa0",
    "executionInfo": {
     "status": "ok",
     "timestamp": 1643196050078,
     "user_tz": -180,
     "elapsed": 778,
     "user": {
      "displayName": "Игорь Красовский",
      "photoUrl": "https://lh3.googleusercontent.com/a/default-user=s64",
      "userId": "10386348939673216303"
     }
    }
   },
   "execution_count": 34,
   "outputs": []
  },
  {
   "cell_type": "code",
   "source": [
    "#Basic version\n",
    "\n",
    "import torch.nn as nn\n",
    "import torch.functional as F\n",
    "\n",
    "\n",
    "class SalaryPredictorWithEmbeddings(nn.Module):\n",
    "    def __init__(self, n_tokens=len(count_vect.vocabulary_), n_cat_features=len(categorical_vectorizer.vocabulary_), hid_size=32):\n",
    "        super().__init__()\n",
    "        self.title_embeddings = nn.Embedding(n_tokens, hid_size)\n",
    "        self.title_conv = nn.Conv1d(hid_size, 10, 3)\n",
    "        self.description_embeddings = nn.Embedding(n_tokens, hid_size)\n",
    "        self.description_conv = nn.Conv1d(hid_size, 5, 3)\n",
    "        self.cat_features_embeddings = nn.Linear(n_cat_features, 5, False)\n",
    "        self.fc = nn.Linear(20, 1)\n",
    "        \n",
    "    def forward(self, batch):\n",
    "        title = self.title_embeddings(batch['Title'])\n",
    "        title = self.title_conv(title.permute(0,2,1))\n",
    "        title = title.max(dim=2)[0]\n",
    "        description = self.description_embeddings(batch['FullDescription'])\n",
    "        description = self.description_conv(description.permute(0,2,1))\n",
    "        description = description.max(dim=2)[0]\n",
    "        cat_features = self.cat_features_embeddings(batch['Categorical'])\n",
    "        concatenated = torch.cat([title, description, cat_features], dim=1)\n",
    "        output = self.fc(concatenated)\n",
    "        return output.squeeze(dim=1)"
   ],
   "metadata": {
    "id": "Ek819Ou4R2vv",
    "executionInfo": {
     "status": "ok",
     "timestamp": 1643196050078,
     "user_tz": -180,
     "elapsed": 4,
     "user": {
      "displayName": "Игорь Красовский",
      "photoUrl": "https://lh3.googleusercontent.com/a/default-user=s64",
      "userId": "10386348939673216303"
     }
    }
   },
   "execution_count": 35,
   "outputs": []
  },
  {
   "cell_type": "code",
   "source": [
    "basic_model = SalaryPredictorWithEmbeddings().to(DEVICE)\n",
    "criterion = nn.MSELoss(reduction='sum')\n",
    "optimizer = torch.optim.SGD(basic_model.parameters(), lr=1e-4)\n",
    "\n",
    "for epoch in range(EPOCHS):\n",
    "    print(f\"epoch: {epoch}\")\n",
    "    basic_model.train()\n",
    "    for i, batch in tqdm.notebook.tqdm(enumerate(\n",
    "            iterate_minibatches(data_train, batch_size=BATCH_SIZE, device=DEVICE)),\n",
    "            total=len(data_train) // BATCH_SIZE\n",
    "        ):\n",
    "        pred = basic_model(batch)\n",
    "        loss = criterion(pred, batch[TARGET_COLUMN])/BATCH_SIZE\n",
    "        optimizer.zero_grad()\n",
    "        loss.backward()\n",
    "        optimizer.step()\n",
    "        \n",
    "    print_metrics(basic_model, data_val)"
   ],
   "metadata": {
    "colab": {
     "base_uri": "https://localhost:8080/",
     "height": 942,
     "referenced_widgets": [
      "88b31a4072984d6487835582e9b297a6",
      "22de46fc3c3e46a1bab10bbdaa1c0036",
      "97a6f9cb3f0742afbc86cc7e05439d6e",
      "7e068158ba4645cfae12c9cb6f5046f2",
      "410509ee79224c34be4cd735d8d4e4ca",
      "2d690b55902c47969e81ecfc2c0a7486",
      "8755a4df230e4580aaefdf1e36b857df",
      "7087ee74939e4158b2d8c530523cd38a",
      "13740971f8944ad684f95d97cb17d396",
      "6f1f7a571c374ff293fc138c63f93eb4",
      "451c44429d8b4bcf855f0feeab40f9f3",
      "3344ee9f49ba4262b3b3440291223eaf",
      "3b29c80f0df747478d6f51b397670c72",
      "bce851b496bd4a37af34b8ced6d0cdc9",
      "4e50d7489fef46db8db4b9d852522c7c",
      "13990b567ee142cf96c0f00985e49001",
      "acf124b960134abb99e9e7ae997a9121",
      "bdb7de42c79541068e9c2ef2bc341622",
      "c9de5bee41fe49b59df0c1df1306752a",
      "5d6f79af98c943ea870e0168ac3dc7a9",
      "98e038d25eed474ead6969b9d8498aad",
      "cf80adfdbf054bc994aa2e4727a8579e",
      "96c0a414f4fd4413815ed605b45d3701",
      "6209f0f20e2d421b99bb26eef786148d",
      "9c7f97f15e18450c83dceae97ee3fffb",
      "979d3619e12b40918ec4c39919fe6c9a",
      "197c46b67d20444b8960608613c0f264",
      "b73d086c1fcf4aa9a2cffe7de0a50484",
      "8bf1692ea4594cc9a272829ff4885413",
      "322b4377fb794d7da4fbbdde39705aca",
      "893995ced57a4ff5b95fcb7fe700c076",
      "867187c080f240039123985d7168264d",
      "6272f920df184a048f29033ba5159ced",
      "efe1d9344f564930b779de179aa6e96c",
      "a1fb84ecc9534581822e0700ae51910f",
      "15442bc3842447679fb0dc37eab83f60",
      "e94cf58bedb34784be72b9b13fdf0c04",
      "d3b684d894ee4b6991665611c830375f",
      "a46f33b599754773abcd3e2901c2d71f",
      "26605fdb70794b7f82ac566d91717f3c",
      "a09d3e8f4ae14c23b136276ebb5fffc0",
      "9b191348b2514a0395379a2eaafacc64",
      "58621c9974184eb69c315f9bf1618dcb",
      "3f787b58afc34f7e86c7365c1f952171"
     ]
    },
    "id": "eOUj5ARbUuHc",
    "executionInfo": {
     "status": "error",
     "timestamp": 1643054315306,
     "user_tz": -180,
     "elapsed": 2626907,
     "user": {
      "displayName": "Игорь Красовский",
      "photoUrl": "https://lh3.googleusercontent.com/a/default-user=s64",
      "userId": "10386348939673216303"
     }
    },
    "outputId": "389a339d-a5bf-45e6-b1f5-62acac667f36"
   },
   "execution_count": 36,
   "outputs": [
    {
     "name": "stdout",
     "output_type": "stream",
     "text": [
      "epoch: 0\n"
     ]
    },
    {
     "data": {
      "text/plain": "  0%|          | 0/6119 [00:00<?, ?it/s]",
      "application/vnd.jupyter.widget-view+json": {
       "version_major": 2,
       "version_minor": 0,
       "model_id": "62b01c28cc0e45fca9fcc85327885675"
      }
     },
     "metadata": {},
     "output_type": "display_data"
    },
    {
     "name": "stdout",
     "output_type": "stream",
     "text": [
      " results:\n",
      "Mean square error: 0.25013\n",
      "Mean absolute error: 0.40050\n",
      "epoch: 1\n"
     ]
    },
    {
     "data": {
      "text/plain": "  0%|          | 0/6119 [00:00<?, ?it/s]",
      "application/vnd.jupyter.widget-view+json": {
       "version_major": 2,
       "version_minor": 0,
       "model_id": "678d7d9d7ad04951bff2ac672e5b6a03"
      }
     },
     "metadata": {},
     "output_type": "display_data"
    },
    {
     "name": "stdout",
     "output_type": "stream",
     "text": [
      " results:\n",
      "Mean square error: 0.24111\n",
      "Mean absolute error: 0.39435\n",
      "epoch: 2\n"
     ]
    },
    {
     "data": {
      "text/plain": "  0%|          | 0/6119 [00:00<?, ?it/s]",
      "application/vnd.jupyter.widget-view+json": {
       "version_major": 2,
       "version_minor": 0,
       "model_id": "ab8c44fec9744d5a93c5717a8f6ee123"
      }
     },
     "metadata": {},
     "output_type": "display_data"
    },
    {
     "name": "stdout",
     "output_type": "stream",
     "text": [
      " results:\n",
      "Mean square error: 0.23680\n",
      "Mean absolute error: 0.39072\n",
      "epoch: 3\n"
     ]
    },
    {
     "data": {
      "text/plain": "  0%|          | 0/6119 [00:00<?, ?it/s]",
      "application/vnd.jupyter.widget-view+json": {
       "version_major": 2,
       "version_minor": 0,
       "model_id": "9c7d2feff72f4fbd8d146d92f2d092e7"
      }
     },
     "metadata": {},
     "output_type": "display_data"
    },
    {
     "name": "stdout",
     "output_type": "stream",
     "text": [
      " results:\n",
      "Mean square error: 0.23346\n",
      "Mean absolute error: 0.38805\n",
      "epoch: 4\n"
     ]
    },
    {
     "data": {
      "text/plain": "  0%|          | 0/6119 [00:00<?, ?it/s]",
      "application/vnd.jupyter.widget-view+json": {
       "version_major": 2,
       "version_minor": 0,
       "model_id": "b7ce3d568d3745ca80f5cc06eee387b7"
      }
     },
     "metadata": {},
     "output_type": "display_data"
    },
    {
     "name": "stdout",
     "output_type": "stream",
     "text": [
      " results:\n",
      "Mean square error: 0.23071\n",
      "Mean absolute error: 0.38602\n",
      "epoch: 5\n"
     ]
    },
    {
     "data": {
      "text/plain": "  0%|          | 0/6119 [00:00<?, ?it/s]",
      "application/vnd.jupyter.widget-view+json": {
       "version_major": 2,
       "version_minor": 0,
       "model_id": "b7531f2177344e3ca06d8b8bfc7a2e8d"
      }
     },
     "metadata": {},
     "output_type": "display_data"
    },
    {
     "name": "stdout",
     "output_type": "stream",
     "text": [
      " results:\n",
      "Mean square error: 0.22857\n",
      "Mean absolute error: 0.38361\n",
      "epoch: 6\n"
     ]
    },
    {
     "data": {
      "text/plain": "  0%|          | 0/6119 [00:00<?, ?it/s]",
      "application/vnd.jupyter.widget-view+json": {
       "version_major": 2,
       "version_minor": 0,
       "model_id": "f7363806b190453a8896b066e50e5ed1"
      }
     },
     "metadata": {},
     "output_type": "display_data"
    },
    {
     "name": "stdout",
     "output_type": "stream",
     "text": [
      " results:\n",
      "Mean square error: 0.22602\n",
      "Mean absolute error: 0.38222\n",
      "epoch: 7\n"
     ]
    },
    {
     "data": {
      "text/plain": "  0%|          | 0/6119 [00:00<?, ?it/s]",
      "application/vnd.jupyter.widget-view+json": {
       "version_major": 2,
       "version_minor": 0,
       "model_id": "39a149a47a714fb8b7cfad93b750613d"
      }
     },
     "metadata": {},
     "output_type": "display_data"
    },
    {
     "name": "stdout",
     "output_type": "stream",
     "text": [
      " results:\n",
      "Mean square error: 0.22329\n",
      "Mean absolute error: 0.37922\n",
      "epoch: 8\n"
     ]
    },
    {
     "data": {
      "text/plain": "  0%|          | 0/6119 [00:00<?, ?it/s]",
      "application/vnd.jupyter.widget-view+json": {
       "version_major": 2,
       "version_minor": 0,
       "model_id": "f067472585154b84bb4d9fba680fd8dc"
      }
     },
     "metadata": {},
     "output_type": "display_data"
    },
    {
     "name": "stdout",
     "output_type": "stream",
     "text": [
      " results:\n",
      "Mean square error: 0.22069\n",
      "Mean absolute error: 0.37706\n",
      "epoch: 9\n"
     ]
    },
    {
     "data": {
      "text/plain": "  0%|          | 0/6119 [00:00<?, ?it/s]",
      "application/vnd.jupyter.widget-view+json": {
       "version_major": 2,
       "version_minor": 0,
       "model_id": "1d680adbf04c473babd65ae95b93c11f"
      }
     },
     "metadata": {},
     "output_type": "display_data"
    },
    {
     "name": "stdout",
     "output_type": "stream",
     "text": [
      " results:\n",
      "Mean square error: 0.21824\n",
      "Mean absolute error: 0.37472\n"
     ]
    }
   ]
  },
  {
   "cell_type": "code",
   "source": [
    "import gensim.downloader \n",
    "embeddings = gensim.downloader.load(\"glove-wiki-gigaword-100\")"
   ],
   "metadata": {
    "id": "a4p8lsMQYA3L",
    "executionInfo": {
     "status": "ok",
     "timestamp": 1643196104663,
     "user_tz": -180,
     "elapsed": 54587,
     "user": {
      "displayName": "Игорь Красовский",
      "photoUrl": "https://lh3.googleusercontent.com/a/default-user=s64",
      "userId": "10386348939673216303"
     }
    }
   },
   "execution_count": 12,
   "outputs": [
    {
     "name": "stdout",
     "output_type": "stream",
     "text": [
      "[=========-----------------------------------------] 18.3% 23.4/128.1MB downloaded"
     ]
    },
    {
     "name": "stderr",
     "output_type": "stream",
     "text": [
      "IOPub message rate exceeded.\n",
      "The notebook server will temporarily stop sending output\n",
      "to the client in order to avoid crashing it.\n",
      "To change this limit, set the config variable\n",
      "`--NotebookApp.iopub_msg_rate_limit`.\n",
      "\n",
      "Current values:\n",
      "NotebookApp.iopub_msg_rate_limit=1000.0 (msgs/sec)\n",
      "NotebookApp.rate_limit_window=3.0 (secs)\n",
      "\n"
     ]
    },
    {
     "name": "stdout",
     "output_type": "stream",
     "text": [
      "[==============================--------------------] 61.4% 78.6/128.1MB downloaded"
     ]
    },
    {
     "name": "stderr",
     "output_type": "stream",
     "text": [
      "IOPub message rate exceeded.\n",
      "The notebook server will temporarily stop sending output\n",
      "to the client in order to avoid crashing it.\n",
      "To change this limit, set the config variable\n",
      "`--NotebookApp.iopub_msg_rate_limit`.\n",
      "\n",
      "Current values:\n",
      "NotebookApp.iopub_msg_rate_limit=1000.0 (msgs/sec)\n",
      "NotebookApp.rate_limit_window=3.0 (secs)\n",
      "\n"
     ]
    },
    {
     "name": "stdout",
     "output_type": "stream",
     "text": [
      "[==================================================] 100.0% 128.1/128.1MB downloaded\n"
     ]
    }
   ]
  },
  {
   "cell_type": "code",
   "source": [
    "def vectorize_sum(sentence):\n",
    "    \"\"\"\n",
    "    implement a function that converts preprocessed comment to a sum of token vectors\n",
    "    \"\"\"\n",
    "    features = []\n",
    "    \n",
    "    for word in sentence.split():\n",
    "      if word in embeddings.vocab:\n",
    "        features.append(embeddings.get_vector(word))\n",
    "    features = np.array(features, dtype='float64')\n",
    "    return features\n",
    "\n",
    "def pad_sentence_sequence(sentence_seq):\n",
    "    max_len = 0\n",
    "    vectorized_sentences = []\n",
    "    for sentence in sentence_seq:\n",
    "        vectorized_sentence = vectorize_sum(sentence)\n",
    "        if vectorized_sentence.size:\n",
    "            vectorized_sentences.append(vectorized_sentence)\n",
    "            max_len = max(max_len, vectorized_sentence.shape[0])\n",
    "        else:\n",
    "            vectorized_sentences.append(np.zeros((1, embeddings.vector_size)))\n",
    "    \n",
    "    max_len = max(3, max_len)\n",
    "\n",
    "    padded_vectors = []\n",
    "    for i, vectorized_sentence in enumerate(vectorized_sentences):\n",
    "        padded_vectors.append(np.pad(vectorized_sentence, ((0, max_len - vectorized_sentence.shape[0]), (0, 0))))\n",
    "    return padded_vectors\n",
    "\n",
    "\n",
    "def make_batch(data, word_dropout=0, device=DEVICE):\n",
    "    \"\"\"\n",
    "    Creates a keras-friendly dict from the batch data.\n",
    "    :param word_dropout: replaces token index with UNK_IX with this probability\n",
    "    :returns: a dict with {'title' : int64[batch, title_max_len]\n",
    "    \"\"\"\n",
    "    batch = {}\n",
    "    batch[\"Title\"] = pad_sentence_sequence(data.Title.values)\n",
    "    batch[\"FullDescription\"] = pad_sentence_sequence(data.FullDescription.values)\n",
    "    batch['Categorical'] = categorical_vectorizer.transform(data[categorical_columns].apply(dict, axis=1))\n",
    "    \n",
    "    if TARGET_COLUMN in data.columns:\n",
    "        batch[TARGET_COLUMN] = data[TARGET_COLUMN].values\n",
    "    \n",
    "    return to_tensors(batch, device)\n",
    "\n",
    "def to_tensors(batch, device):\n",
    "    batch_tensors = dict()\n",
    "    for key, arr in batch.items():\n",
    "        if key in [\"FullDescription\", \"Title\"]:\n",
    "            batch_tensors[key] = torch.tensor(arr, device=device, dtype=torch.float)\n",
    "        else:\n",
    "            batch_tensors[key] = torch.tensor(arr, device=device, dtype=torch.float)\n",
    "    return batch_tensors"
   ],
   "metadata": {
    "id": "J-izhOU0bB6f",
    "executionInfo": {
     "status": "ok",
     "timestamp": 1643203170184,
     "user_tz": -180,
     "elapsed": 351,
     "user": {
      "displayName": "Игорь Красовский",
      "photoUrl": "https://lh3.googleusercontent.com/a/default-user=s64",
      "userId": "10386348939673216303"
     }
    }
   },
   "execution_count": 37,
   "outputs": []
  },
  {
   "cell_type": "code",
   "source": [
    "#\n",
    "\n",
    "class SalaryPredictorPreEmbedded(nn.Module):\n",
    "    def __init__(self, n_tokens=len(count_vect.vocabulary_), n_cat_features=len(categorical_vectorizer.vocabulary_), hid_size=embeddings.vector_size):\n",
    "        super().__init__()\n",
    "        self.title_conv = nn.Conv1d(hid_size, 10, 3)\n",
    "        self.description_conv = nn.Conv1d(hid_size, 5, 3)\n",
    "        self.cat_features_embeddings = nn.Linear(n_cat_features, 5, False)\n",
    "        self.fc = nn.Linear(20, 1)\n",
    "        \n",
    "    def forward(self, batch):\n",
    "        title = batch['Title']\n",
    "        title = self.title_conv(title.permute(0,2,1))\n",
    "        title = title.max(dim=2)[0]\n",
    "        description = batch['FullDescription']\n",
    "        description = self.description_conv(description.permute(0,2,1))\n",
    "        description = description.max(dim=2)[0]\n",
    "        cat_features = self.cat_features_embeddings(batch['Categorical'])\n",
    "        concatenated = torch.cat([title, description, cat_features], dim=1)\n",
    "        output = self.fc(concatenated)\n",
    "        return output.squeeze(dim=1)"
   ],
   "metadata": {
    "id": "5G0f6oL8Vppq",
    "colab": {
     "base_uri": "https://localhost:8080/"
    },
    "executionInfo": {
     "status": "ok",
     "timestamp": 1643203243659,
     "user_tz": -180,
     "elapsed": 219,
     "user": {
      "displayName": "Игорь Красовский",
      "photoUrl": "https://lh3.googleusercontent.com/a/default-user=s64",
      "userId": "10386348939673216303"
     }
    },
    "outputId": "098d2d06-d6f3-4b6c-b498-575472f0e6ee"
   },
   "execution_count": 38,
   "outputs": []
  },
  {
   "cell_type": "code",
   "source": [
    "preembedded_model = SalaryPredictorPreEmbedded().to(DEVICE)\n",
    "criterion = nn.MSELoss(reduction='sum')\n",
    "optimizer = torch.optim.SGD(preembedded_model.parameters(), lr=1e-3)\n",
    "\n",
    "for epoch in range(EPOCHS):\n",
    "    print(f\"epoch: {epoch}\")\n",
    "    preembedded_model.train()\n",
    "    for i, batch in tqdm.notebook.tqdm(enumerate(\n",
    "            iterate_minibatches(data_train, batch_size=BATCH_SIZE, device=DEVICE)),\n",
    "            total=len(data_train) // BATCH_SIZE\n",
    "        ):\n",
    "        pred = preembedded_model(batch)\n",
    "        loss = criterion(pred, batch[TARGET_COLUMN])/BATCH_SIZE\n",
    "        optimizer.zero_grad()\n",
    "        loss.backward()\n",
    "        optimizer.step()\n",
    "        \n",
    "    print_metrics(preembedded_model, data_val)\n"
   ],
   "metadata": {
    "id": "Qtaj91yMdsgm",
    "colab": {
     "base_uri": "https://localhost:8080/",
     "height": 153,
     "referenced_widgets": [
      "5ddbe95d95dd4cf8b9df3dc740ae3013",
      "77aaab915e814530b5e1390af5a6dd66",
      "b4943a57f28c427c8792b6471d12692b",
      "89dbe0621d7049779529b85a5ee92ac1",
      "16df42e261d84dd3b1382cff2c041248",
      "d0ff4b9c1bdd46f49676ec4b3b50fec0",
      "b4abcec3a350402faaf0d4af8113fe27",
      "52229d74121e4770905185d51a90c329",
      "1fe67df427ba4cc384c299110406dbfd",
      "cfe642dc3b714e77ae0431b3b3b134f5",
      "1c76b192f780438190ccd118b6ac3adb"
     ]
    },
    "outputId": "cfcbf603-8e21-4c60-e342-4f9784341e5f"
   },
   "execution_count": 39,
   "outputs": [
    {
     "name": "stdout",
     "output_type": "stream",
     "text": [
      "epoch: 0\n"
     ]
    },
    {
     "data": {
      "text/plain": "  0%|          | 0/6119 [00:00<?, ?it/s]",
      "application/vnd.jupyter.widget-view+json": {
       "version_major": 2,
       "version_minor": 0,
       "model_id": "64f5f91304654f249f8c4e7fe225c26d"
      }
     },
     "metadata": {},
     "output_type": "display_data"
    },
    {
     "name": "stdout",
     "output_type": "stream",
     "text": [
      " results:\n",
      "Mean square error: 0.17048\n",
      "Mean absolute error: 0.32305\n",
      "epoch: 1\n"
     ]
    },
    {
     "data": {
      "text/plain": "  0%|          | 0/6119 [00:00<?, ?it/s]",
      "application/vnd.jupyter.widget-view+json": {
       "version_major": 2,
       "version_minor": 0,
       "model_id": "2ee84d066e3a4184bb806732acfd4419"
      }
     },
     "metadata": {},
     "output_type": "display_data"
    },
    {
     "name": "stdout",
     "output_type": "stream",
     "text": [
      " results:\n",
      "Mean square error: 0.14850\n",
      "Mean absolute error: 0.29594\n",
      "epoch: 2\n"
     ]
    },
    {
     "data": {
      "text/plain": "  0%|          | 0/6119 [00:00<?, ?it/s]",
      "application/vnd.jupyter.widget-view+json": {
       "version_major": 2,
       "version_minor": 0,
       "model_id": "05e2d474edc94adfb5245f3ae3bb9bb8"
      }
     },
     "metadata": {},
     "output_type": "display_data"
    },
    {
     "name": "stdout",
     "output_type": "stream",
     "text": [
      " results:\n",
      "Mean square error: 0.13672\n",
      "Mean absolute error: 0.28182\n",
      "epoch: 3\n"
     ]
    },
    {
     "data": {
      "text/plain": "  0%|          | 0/6119 [00:00<?, ?it/s]",
      "application/vnd.jupyter.widget-view+json": {
       "version_major": 2,
       "version_minor": 0,
       "model_id": "86170480c98d42b7b9c20673adf8bcdf"
      }
     },
     "metadata": {},
     "output_type": "display_data"
    },
    {
     "name": "stdout",
     "output_type": "stream",
     "text": [
      " results:\n",
      "Mean square error: 0.12758\n",
      "Mean absolute error: 0.27119\n",
      "epoch: 4\n"
     ]
    },
    {
     "data": {
      "text/plain": "  0%|          | 0/6119 [00:00<?, ?it/s]",
      "application/vnd.jupyter.widget-view+json": {
       "version_major": 2,
       "version_minor": 0,
       "model_id": "676d94176b434f91a53518afd6277ab0"
      }
     },
     "metadata": {},
     "output_type": "display_data"
    },
    {
     "name": "stdout",
     "output_type": "stream",
     "text": [
      " results:\n",
      "Mean square error: 0.12034\n",
      "Mean absolute error: 0.26306\n",
      "epoch: 5\n"
     ]
    },
    {
     "data": {
      "text/plain": "  0%|          | 0/6119 [00:00<?, ?it/s]",
      "application/vnd.jupyter.widget-view+json": {
       "version_major": 2,
       "version_minor": 0,
       "model_id": "c8bdb337654940d39c5697f1eeb8ca6f"
      }
     },
     "metadata": {},
     "output_type": "display_data"
    },
    {
     "name": "stdout",
     "output_type": "stream",
     "text": [
      " results:\n",
      "Mean square error: 0.11537\n",
      "Mean absolute error: 0.25683\n",
      "epoch: 6\n"
     ]
    },
    {
     "data": {
      "text/plain": "  0%|          | 0/6119 [00:00<?, ?it/s]",
      "application/vnd.jupyter.widget-view+json": {
       "version_major": 2,
       "version_minor": 0,
       "model_id": "e052a6cbb6d148f8890abb660994869c"
      }
     },
     "metadata": {},
     "output_type": "display_data"
    },
    {
     "name": "stdout",
     "output_type": "stream",
     "text": [
      " results:\n",
      "Mean square error: 0.11170\n",
      "Mean absolute error: 0.25241\n",
      "epoch: 7\n"
     ]
    },
    {
     "data": {
      "text/plain": "  0%|          | 0/6119 [00:00<?, ?it/s]",
      "application/vnd.jupyter.widget-view+json": {
       "version_major": 2,
       "version_minor": 0,
       "model_id": "af3f47a84f684f4a91665b8407fd6b78"
      }
     },
     "metadata": {},
     "output_type": "display_data"
    },
    {
     "name": "stdout",
     "output_type": "stream",
     "text": [
      " results:\n",
      "Mean square error: 0.10921\n",
      "Mean absolute error: 0.24978\n",
      "epoch: 8\n"
     ]
    },
    {
     "data": {
      "text/plain": "  0%|          | 0/6119 [00:00<?, ?it/s]",
      "application/vnd.jupyter.widget-view+json": {
       "version_major": 2,
       "version_minor": 0,
       "model_id": "c8c1f4d1466d4172876cc1ecb69231cc"
      }
     },
     "metadata": {},
     "output_type": "display_data"
    },
    {
     "name": "stdout",
     "output_type": "stream",
     "text": [
      " results:\n",
      "Mean square error: 0.10696\n",
      "Mean absolute error: 0.24620\n",
      "epoch: 9\n"
     ]
    },
    {
     "data": {
      "text/plain": "  0%|          | 0/6119 [00:00<?, ?it/s]",
      "application/vnd.jupyter.widget-view+json": {
       "version_major": 2,
       "version_minor": 0,
       "model_id": "8ab35cc6896448c59995dc397601ea35"
      }
     },
     "metadata": {},
     "output_type": "display_data"
    },
    {
     "name": "stdout",
     "output_type": "stream",
     "text": [
      " results:\n",
      "Mean square error: 0.10606\n",
      "Mean absolute error: 0.24451\n"
     ]
    }
   ]
  },
  {
   "cell_type": "code",
   "execution_count": null,
   "outputs": [],
   "source": [
    "del basic_model"
   ],
   "metadata": {
    "collapsed": false,
    "pycharm": {
     "name": "#%%\n"
    }
   }
  },
  {
   "cell_type": "code",
   "execution_count": 48,
   "outputs": [
    {
     "name": "stdout",
     "output_type": "stream",
     "text": [
      "epoch: 0\n"
     ]
    },
    {
     "data": {
      "text/plain": "  0%|          | 0/6119 [00:00<?, ?it/s]",
      "application/vnd.jupyter.widget-view+json": {
       "version_major": 2,
       "version_minor": 0,
       "model_id": "dcc82fa7b93e49d2818f0b9be5af087c"
      }
     },
     "metadata": {},
     "output_type": "display_data"
    },
    {
     "name": "stdout",
     "output_type": "stream",
     "text": [
      " results:\n",
      "Mean square error: 0.16372\n",
      "Mean absolute error: 0.31377\n",
      "epoch: 1\n"
     ]
    },
    {
     "data": {
      "text/plain": "  0%|          | 0/6119 [00:00<?, ?it/s]",
      "application/vnd.jupyter.widget-view+json": {
       "version_major": 2,
       "version_minor": 0,
       "model_id": "3f519b77dedd4e198b482e9c365aa92b"
      }
     },
     "metadata": {},
     "output_type": "display_data"
    },
    {
     "name": "stdout",
     "output_type": "stream",
     "text": [
      " results:\n",
      "Mean square error: 0.13872\n",
      "Mean absolute error: 0.28578\n",
      "epoch: 2\n"
     ]
    },
    {
     "data": {
      "text/plain": "  0%|          | 0/6119 [00:00<?, ?it/s]",
      "application/vnd.jupyter.widget-view+json": {
       "version_major": 2,
       "version_minor": 0,
       "model_id": "7b411050feac48c5bf7e1d7526539af4"
      }
     },
     "metadata": {},
     "output_type": "display_data"
    },
    {
     "name": "stdout",
     "output_type": "stream",
     "text": [
      " results:\n",
      "Mean square error: 0.12513\n",
      "Mean absolute error: 0.26667\n",
      "epoch: 3\n"
     ]
    },
    {
     "data": {
      "text/plain": "  0%|          | 0/6119 [00:00<?, ?it/s]",
      "application/vnd.jupyter.widget-view+json": {
       "version_major": 2,
       "version_minor": 0,
       "model_id": "75ab2524736e48a58316a7a4abef1707"
      }
     },
     "metadata": {},
     "output_type": "display_data"
    },
    {
     "name": "stdout",
     "output_type": "stream",
     "text": [
      " results:\n",
      "Mean square error: 0.12074\n",
      "Mean absolute error: 0.26045\n",
      "epoch: 4\n"
     ]
    },
    {
     "data": {
      "text/plain": "  0%|          | 0/6119 [00:00<?, ?it/s]",
      "application/vnd.jupyter.widget-view+json": {
       "version_major": 2,
       "version_minor": 0,
       "model_id": "b9393080d8394bfea5e31d742bcaa1e5"
      }
     },
     "metadata": {},
     "output_type": "display_data"
    },
    {
     "name": "stdout",
     "output_type": "stream",
     "text": [
      " results:\n",
      "Mean square error: 0.11385\n",
      "Mean absolute error: 0.25630\n",
      "epoch: 5\n"
     ]
    },
    {
     "data": {
      "text/plain": "  0%|          | 0/6119 [00:00<?, ?it/s]",
      "application/vnd.jupyter.widget-view+json": {
       "version_major": 2,
       "version_minor": 0,
       "model_id": "e582b64ae9c146bcb0373ab7d475a8d8"
      }
     },
     "metadata": {},
     "output_type": "display_data"
    },
    {
     "name": "stdout",
     "output_type": "stream",
     "text": [
      " results:\n",
      "Mean square error: 0.11188\n",
      "Mean absolute error: 0.25034\n",
      "epoch: 6\n"
     ]
    },
    {
     "data": {
      "text/plain": "  0%|          | 0/6119 [00:00<?, ?it/s]",
      "application/vnd.jupyter.widget-view+json": {
       "version_major": 2,
       "version_minor": 0,
       "model_id": "003a1f80da3d4bb695802f3aebd2bef7"
      }
     },
     "metadata": {},
     "output_type": "display_data"
    },
    {
     "name": "stdout",
     "output_type": "stream",
     "text": [
      " results:\n",
      "Mean square error: 0.10595\n",
      "Mean absolute error: 0.24529\n",
      "epoch: 7\n"
     ]
    },
    {
     "data": {
      "text/plain": "  0%|          | 0/6119 [00:00<?, ?it/s]",
      "application/vnd.jupyter.widget-view+json": {
       "version_major": 2,
       "version_minor": 0,
       "model_id": "9caad004e7d64e9f9712dcbc82d1a4db"
      }
     },
     "metadata": {},
     "output_type": "display_data"
    },
    {
     "name": "stdout",
     "output_type": "stream",
     "text": [
      " results:\n",
      "Mean square error: 0.10363\n",
      "Mean absolute error: 0.24222\n",
      "epoch: 8\n"
     ]
    },
    {
     "data": {
      "text/plain": "  0%|          | 0/6119 [00:00<?, ?it/s]",
      "application/vnd.jupyter.widget-view+json": {
       "version_major": 2,
       "version_minor": 0,
       "model_id": "b29694b80fb645c2b328f8f2291ac33d"
      }
     },
     "metadata": {},
     "output_type": "display_data"
    },
    {
     "name": "stdout",
     "output_type": "stream",
     "text": [
      " results:\n",
      "Mean square error: 0.10192\n",
      "Mean absolute error: 0.23960\n",
      "epoch: 9\n"
     ]
    },
    {
     "data": {
      "text/plain": "  0%|          | 0/6119 [00:00<?, ?it/s]",
      "application/vnd.jupyter.widget-view+json": {
       "version_major": 2,
       "version_minor": 0,
       "model_id": "e15a4b61ab9d4f33801419af232ba420"
      }
     },
     "metadata": {},
     "output_type": "display_data"
    },
    {
     "name": "stdout",
     "output_type": "stream",
     "text": [
      " results:\n",
      "Mean square error: 0.10045\n",
      "Mean absolute error: 0.23844\n"
     ]
    }
   ],
   "source": [
    "### adding padding not to loose time dims\n",
    "\n",
    "BATCH_SIZE = 32\n",
    "EPOCHS = 10\n",
    "\n",
    "class SalaryPredictorPreEmbedded(nn.Module):\n",
    "    def __init__(self, n_tokens=len(count_vect.vocabulary_), n_cat_features=len(categorical_vectorizer.vocabulary_), hid_size=embeddings.vector_size):\n",
    "        super().__init__()\n",
    "        self.title_conv = nn.Conv1d(hid_size, 10, 3, padding='same')\n",
    "        self.description_conv = nn.Conv1d(hid_size, 5, 3, padding='same')\n",
    "        self.cat_features_embeddings = nn.Linear(n_cat_features, 5, False)\n",
    "        self.fc = nn.Linear(20, 1)\n",
    "\n",
    "    def forward(self, batch):\n",
    "        title = batch['Title']\n",
    "        title = self.title_conv(title.permute(0,2,1))\n",
    "        title = title.max(dim=2)[0]\n",
    "        description = batch['FullDescription']\n",
    "        description = self.description_conv(description.permute(0,2,1))\n",
    "        description = description.max(dim=2)[0]\n",
    "        cat_features = self.cat_features_embeddings(batch['Categorical'])\n",
    "        concatenated = torch.cat([title, description, cat_features], dim=1)\n",
    "        output = self.fc(concatenated)\n",
    "        return output.squeeze(dim=1)\n",
    "\n",
    "preembedded_model = SalaryPredictorPreEmbedded().to(DEVICE)\n",
    "criterion = nn.MSELoss(reduction='sum')\n",
    "optimizer = torch.optim.SGD(preembedded_model.parameters(), lr=1e-3)\n",
    "\n",
    "for epoch in range(EPOCHS):\n",
    "    print(f\"epoch: {epoch}\")\n",
    "    preembedded_model.train()\n",
    "    for i, batch in tqdm.notebook.tqdm(enumerate(\n",
    "            iterate_minibatches(data_train, batch_size=BATCH_SIZE, device=DEVICE)),\n",
    "            total=len(data_train) // BATCH_SIZE\n",
    "    ):\n",
    "        pred = preembedded_model(batch)\n",
    "        loss = criterion(pred, batch[TARGET_COLUMN])/BATCH_SIZE\n",
    "        optimizer.zero_grad()\n",
    "        loss.backward()\n",
    "        optimizer.step()\n",
    "\n",
    "    print_metrics(preembedded_model, data_val)"
   ],
   "metadata": {
    "collapsed": false,
    "pycharm": {
     "name": "#%%\n"
    }
   }
  },
  {
   "cell_type": "code",
   "execution_count": 49,
   "outputs": [
    {
     "name": "stdout",
     "output_type": "stream",
     "text": [
      "epoch: 0\n"
     ]
    },
    {
     "data": {
      "text/plain": "  0%|          | 0/6119 [00:00<?, ?it/s]",
      "application/vnd.jupyter.widget-view+json": {
       "version_major": 2,
       "version_minor": 0,
       "model_id": "a793e25a83144472b3d6e76409e7df45"
      }
     },
     "metadata": {},
     "output_type": "display_data"
    },
    {
     "name": "stdout",
     "output_type": "stream",
     "text": [
      " results:\n",
      "Mean square error: 0.16545\n",
      "Mean absolute error: 0.31470\n",
      "epoch: 1\n"
     ]
    },
    {
     "data": {
      "text/plain": "  0%|          | 0/6119 [00:00<?, ?it/s]",
      "application/vnd.jupyter.widget-view+json": {
       "version_major": 2,
       "version_minor": 0,
       "model_id": "cf250d69b1f047ce94b90ab610d2171c"
      }
     },
     "metadata": {},
     "output_type": "display_data"
    },
    {
     "name": "stdout",
     "output_type": "stream",
     "text": [
      " results:\n",
      "Mean square error: 0.14462\n",
      "Mean absolute error: 0.29011\n",
      "epoch: 2\n"
     ]
    },
    {
     "data": {
      "text/plain": "  0%|          | 0/6119 [00:00<?, ?it/s]",
      "application/vnd.jupyter.widget-view+json": {
       "version_major": 2,
       "version_minor": 0,
       "model_id": "596670c9bdbe45e3bde03cca196859f6"
      }
     },
     "metadata": {},
     "output_type": "display_data"
    },
    {
     "name": "stdout",
     "output_type": "stream",
     "text": [
      " results:\n",
      "Mean square error: 0.13219\n",
      "Mean absolute error: 0.27649\n",
      "epoch: 3\n"
     ]
    },
    {
     "data": {
      "text/plain": "  0%|          | 0/6119 [00:00<?, ?it/s]",
      "application/vnd.jupyter.widget-view+json": {
       "version_major": 2,
       "version_minor": 0,
       "model_id": "ae9eb999336f4daa8f1077513708b01b"
      }
     },
     "metadata": {},
     "output_type": "display_data"
    },
    {
     "name": "stdout",
     "output_type": "stream",
     "text": [
      " results:\n",
      "Mean square error: 0.12290\n",
      "Mean absolute error: 0.26596\n",
      "epoch: 4\n"
     ]
    },
    {
     "data": {
      "text/plain": "  0%|          | 0/6119 [00:00<?, ?it/s]",
      "application/vnd.jupyter.widget-view+json": {
       "version_major": 2,
       "version_minor": 0,
       "model_id": "99f67a8b78064ab7b3cc2c2967edae8d"
      }
     },
     "metadata": {},
     "output_type": "display_data"
    },
    {
     "name": "stdout",
     "output_type": "stream",
     "text": [
      " results:\n",
      "Mean square error: 0.11811\n",
      "Mean absolute error: 0.25801\n",
      "epoch: 5\n"
     ]
    },
    {
     "data": {
      "text/plain": "  0%|          | 0/6119 [00:00<?, ?it/s]",
      "application/vnd.jupyter.widget-view+json": {
       "version_major": 2,
       "version_minor": 0,
       "model_id": "28b2f5dff73d41d1a41c1c69a7947a59"
      }
     },
     "metadata": {},
     "output_type": "display_data"
    },
    {
     "name": "stdout",
     "output_type": "stream",
     "text": [
      " results:\n",
      "Mean square error: 0.11148\n",
      "Mean absolute error: 0.25055\n",
      "epoch: 6\n"
     ]
    },
    {
     "data": {
      "text/plain": "  0%|          | 0/6119 [00:00<?, ?it/s]",
      "application/vnd.jupyter.widget-view+json": {
       "version_major": 2,
       "version_minor": 0,
       "model_id": "89add6b3ea4f4b5baadb849e19960ff4"
      }
     },
     "metadata": {},
     "output_type": "display_data"
    },
    {
     "name": "stdout",
     "output_type": "stream",
     "text": [
      " results:\n",
      "Mean square error: 0.10699\n",
      "Mean absolute error: 0.24528\n",
      "epoch: 7\n"
     ]
    },
    {
     "data": {
      "text/plain": "  0%|          | 0/6119 [00:00<?, ?it/s]",
      "application/vnd.jupyter.widget-view+json": {
       "version_major": 2,
       "version_minor": 0,
       "model_id": "ec603da8744f41159439773789cda68e"
      }
     },
     "metadata": {},
     "output_type": "display_data"
    },
    {
     "name": "stdout",
     "output_type": "stream",
     "text": [
      " results:\n",
      "Mean square error: 0.10262\n",
      "Mean absolute error: 0.24164\n",
      "epoch: 8\n"
     ]
    },
    {
     "data": {
      "text/plain": "  0%|          | 0/6119 [00:00<?, ?it/s]",
      "application/vnd.jupyter.widget-view+json": {
       "version_major": 2,
       "version_minor": 0,
       "model_id": "e3c04f381c7e49f38892f8ceb0b6e689"
      }
     },
     "metadata": {},
     "output_type": "display_data"
    },
    {
     "name": "stdout",
     "output_type": "stream",
     "text": [
      " results:\n",
      "Mean square error: 0.10098\n",
      "Mean absolute error: 0.24051\n",
      "epoch: 9\n"
     ]
    },
    {
     "data": {
      "text/plain": "  0%|          | 0/6119 [00:00<?, ?it/s]",
      "application/vnd.jupyter.widget-view+json": {
       "version_major": 2,
       "version_minor": 0,
       "model_id": "113c6f5cfe704988a092870ccb1bf602"
      }
     },
     "metadata": {},
     "output_type": "display_data"
    },
    {
     "name": "stdout",
     "output_type": "stream",
     "text": [
      " results:\n",
      "Mean square error: 0.09783\n",
      "Mean absolute error: 0.23549\n"
     ]
    }
   ],
   "source": [
    "#trying parallel convs\n",
    "BATCH_SIZE = 32\n",
    "EPOCHS = 10\n",
    "\n",
    "class SalaryPredictorPreEmbedded(nn.Module):\n",
    "    def __init__(self, n_tokens=len(count_vect.vocabulary_), n_cat_features=len(categorical_vectorizer.vocabulary_), hid_size=embeddings.vector_size):\n",
    "        super().__init__()\n",
    "        self.title_conv1 = nn.Conv1d(hid_size, 10, 3, padding='same')\n",
    "        self.title_conv2 = nn.Conv1d(hid_size, 10, 3, padding='same')\n",
    "        self.description_conv1 = nn.Conv1d(hid_size, 5, 3, padding='same')\n",
    "        self.description_conv2 = nn.Conv1d(hid_size, 5, 3, padding='same')\n",
    "        self.cat_features_embeddings = nn.Linear(n_cat_features, 5, False)\n",
    "        self.fc = nn.Linear(35, 1)\n",
    "\n",
    "    def forward(self, batch):\n",
    "        title = batch['Title']\n",
    "        title1 = self.title_conv1(title.permute(0,2,1))\n",
    "        title2 = self.title_conv2(title.permute(0,2,1))\n",
    "        title = torch.cat([title1, title2], dim=1)\n",
    "        title = title.max(dim=2)[0]\n",
    "        description = batch['FullDescription']\n",
    "        description1 = self.description_conv1(description.permute(0,2,1))\n",
    "        description2 = self.description_conv2(description.permute(0,2,1))\n",
    "        description = torch.cat([description1, description2], dim=1)\n",
    "        description = description.max(dim=2)[0]\n",
    "        cat_features = self.cat_features_embeddings(batch['Categorical'])\n",
    "        concatenated = torch.cat([title, description, cat_features], dim=1)\n",
    "        output = self.fc(concatenated)\n",
    "        return output.squeeze(dim=1)\n",
    "\n",
    "preembedded_model = SalaryPredictorPreEmbedded().to(DEVICE)\n",
    "criterion = nn.MSELoss(reduction='sum')\n",
    "optimizer = torch.optim.SGD(preembedded_model.parameters(), lr=1e-3)\n",
    "\n",
    "for epoch in range(EPOCHS):\n",
    "    print(f\"epoch: {epoch}\")\n",
    "    preembedded_model.train()\n",
    "    for i, batch in tqdm.notebook.tqdm(enumerate(\n",
    "            iterate_minibatches(data_train, batch_size=BATCH_SIZE, device=DEVICE)),\n",
    "            total=len(data_train) // BATCH_SIZE\n",
    "    ):\n",
    "        pred = preembedded_model(batch)\n",
    "        loss = criterion(pred, batch[TARGET_COLUMN])/BATCH_SIZE\n",
    "        optimizer.zero_grad()\n",
    "        loss.backward()\n",
    "        optimizer.step()\n",
    "\n",
    "    print_metrics(preembedded_model, data_val)"
   ],
   "metadata": {
    "collapsed": false,
    "pycharm": {
     "name": "#%%\n"
    }
   }
  },
  {
   "cell_type": "code",
   "execution_count": 52,
   "outputs": [
    {
     "name": "stdout",
     "output_type": "stream",
     "text": [
      "epoch: 0\n"
     ]
    },
    {
     "data": {
      "text/plain": "  0%|          | 0/6119 [00:00<?, ?it/s]",
      "application/vnd.jupyter.widget-view+json": {
       "version_major": 2,
       "version_minor": 0,
       "model_id": "5c2a96c99bab43c7a96ae6ce48506972"
      }
     },
     "metadata": {},
     "output_type": "display_data"
    },
    {
     "name": "stdout",
     "output_type": "stream",
     "text": [
      " results:\n",
      "Mean square error: 0.16795\n",
      "Mean absolute error: 0.31568\n",
      "epoch: 1\n"
     ]
    },
    {
     "data": {
      "text/plain": "  0%|          | 0/6119 [00:00<?, ?it/s]",
      "application/vnd.jupyter.widget-view+json": {
       "version_major": 2,
       "version_minor": 0,
       "model_id": "963698ef329548fcb258f2841cf92a97"
      }
     },
     "metadata": {},
     "output_type": "display_data"
    },
    {
     "name": "stdout",
     "output_type": "stream",
     "text": [
      " results:\n",
      "Mean square error: 0.14241\n",
      "Mean absolute error: 0.28680\n",
      "epoch: 2\n"
     ]
    },
    {
     "data": {
      "text/plain": "  0%|          | 0/6119 [00:00<?, ?it/s]",
      "application/vnd.jupyter.widget-view+json": {
       "version_major": 2,
       "version_minor": 0,
       "model_id": "7cad679ffd844acaa9eacb07d837dc16"
      }
     },
     "metadata": {},
     "output_type": "display_data"
    },
    {
     "name": "stdout",
     "output_type": "stream",
     "text": [
      " results:\n",
      "Mean square error: 0.12820\n",
      "Mean absolute error: 0.27184\n",
      "epoch: 3\n"
     ]
    },
    {
     "data": {
      "text/plain": "  0%|          | 0/6119 [00:00<?, ?it/s]",
      "application/vnd.jupyter.widget-view+json": {
       "version_major": 2,
       "version_minor": 0,
       "model_id": "be97e5343fb642249e9057ddd1ba2191"
      }
     },
     "metadata": {},
     "output_type": "display_data"
    },
    {
     "name": "stdout",
     "output_type": "stream",
     "text": [
      " results:\n",
      "Mean square error: 0.11786\n",
      "Mean absolute error: 0.25880\n",
      "epoch: 4\n"
     ]
    },
    {
     "data": {
      "text/plain": "  0%|          | 0/6119 [00:00<?, ?it/s]",
      "application/vnd.jupyter.widget-view+json": {
       "version_major": 2,
       "version_minor": 0,
       "model_id": "980c9b38ad5448bd98c097e0c956b699"
      }
     },
     "metadata": {},
     "output_type": "display_data"
    },
    {
     "name": "stdout",
     "output_type": "stream",
     "text": [
      " results:\n",
      "Mean square error: 0.11307\n",
      "Mean absolute error: 0.25162\n",
      "epoch: 5\n"
     ]
    },
    {
     "data": {
      "text/plain": "  0%|          | 0/6119 [00:00<?, ?it/s]",
      "application/vnd.jupyter.widget-view+json": {
       "version_major": 2,
       "version_minor": 0,
       "model_id": "fdf91488f9c944c6b3c891397515d4eb"
      }
     },
     "metadata": {},
     "output_type": "display_data"
    },
    {
     "name": "stdout",
     "output_type": "stream",
     "text": [
      " results:\n",
      "Mean square error: 0.10646\n",
      "Mean absolute error: 0.24444\n",
      "epoch: 6\n"
     ]
    },
    {
     "data": {
      "text/plain": "  0%|          | 0/6119 [00:00<?, ?it/s]",
      "application/vnd.jupyter.widget-view+json": {
       "version_major": 2,
       "version_minor": 0,
       "model_id": "50bb41b7e3a14bc6928f304035fc7476"
      }
     },
     "metadata": {},
     "output_type": "display_data"
    },
    {
     "name": "stdout",
     "output_type": "stream",
     "text": [
      " results:\n",
      "Mean square error: 0.10482\n",
      "Mean absolute error: 0.24206\n",
      "epoch: 7\n"
     ]
    },
    {
     "data": {
      "text/plain": "  0%|          | 0/6119 [00:00<?, ?it/s]",
      "application/vnd.jupyter.widget-view+json": {
       "version_major": 2,
       "version_minor": 0,
       "model_id": "de6a5a670cbd4f03839ff1ebbba6511c"
      }
     },
     "metadata": {},
     "output_type": "display_data"
    },
    {
     "name": "stdout",
     "output_type": "stream",
     "text": [
      " results:\n",
      "Mean square error: 0.10033\n",
      "Mean absolute error: 0.23874\n",
      "epoch: 8\n"
     ]
    },
    {
     "data": {
      "text/plain": "  0%|          | 0/6119 [00:00<?, ?it/s]",
      "application/vnd.jupyter.widget-view+json": {
       "version_major": 2,
       "version_minor": 0,
       "model_id": "2a5972e52182419596ef34966b8ea191"
      }
     },
     "metadata": {},
     "output_type": "display_data"
    },
    {
     "name": "stdout",
     "output_type": "stream",
     "text": [
      " results:\n",
      "Mean square error: 0.09786\n",
      "Mean absolute error: 0.23572\n",
      "epoch: 9\n"
     ]
    },
    {
     "data": {
      "text/plain": "  0%|          | 0/6119 [00:00<?, ?it/s]",
      "application/vnd.jupyter.widget-view+json": {
       "version_major": 2,
       "version_minor": 0,
       "model_id": "a4432eded93648a5bce1a74c158a4a48"
      }
     },
     "metadata": {},
     "output_type": "display_data"
    },
    {
     "name": "stdout",
     "output_type": "stream",
     "text": [
      " results:\n",
      "Mean square error: 0.09534\n",
      "Mean absolute error: 0.23177\n"
     ]
    }
   ],
   "source": [
    "#adding more features\n",
    "BATCH_SIZE = 32\n",
    "EPOCHS = 10\n",
    "\n",
    "class SalaryPredictorPreEmbedded(nn.Module):\n",
    "    def __init__(self, n_tokens=len(count_vect.vocabulary_), n_cat_features=len(categorical_vectorizer.vocabulary_), hid_size=embeddings.vector_size):\n",
    "        super().__init__()\n",
    "        self.title_conv1 = nn.Conv1d(hid_size, 20, 3, padding='same')\n",
    "        self.title_conv2 = nn.Conv1d(hid_size, 20, 3, padding='same')\n",
    "        self.description_conv1 = nn.Conv1d(hid_size, 10, 3, padding='same')\n",
    "        self.description_conv2 = nn.Conv1d(hid_size, 10, 3, padding='same')\n",
    "        self.cat_features_embeddings = nn.Linear(n_cat_features, 10, False)\n",
    "        self.fc = nn.Linear(70, 1)\n",
    "\n",
    "    def forward(self, batch):\n",
    "        title = batch['Title']\n",
    "        title1 = self.title_conv1(title.permute(0,2,1))\n",
    "        title2 = self.title_conv2(title.permute(0,2,1))\n",
    "        title = torch.cat([title1, title2], dim=1)\n",
    "        title = title.max(dim=2)[0]\n",
    "        description = batch['FullDescription']\n",
    "        description1 = self.description_conv1(description.permute(0,2,1))\n",
    "        description2 = self.description_conv2(description.permute(0,2,1))\n",
    "        description = torch.cat([description1, description2], dim=1)\n",
    "        description = description.max(dim=2)[0]\n",
    "        cat_features = self.cat_features_embeddings(batch['Categorical'])\n",
    "        concatenated = torch.cat([title, description, cat_features], dim=1)\n",
    "        output = self.fc(concatenated)\n",
    "        return output.squeeze(dim=1)\n",
    "\n",
    "preembedded_model = SalaryPredictorPreEmbedded().to(DEVICE)\n",
    "criterion = nn.MSELoss(reduction='sum')\n",
    "optimizer = torch.optim.SGD(preembedded_model.parameters(), lr=1e-3)\n",
    "\n",
    "for epoch in range(EPOCHS):\n",
    "    print(f\"epoch: {epoch}\")\n",
    "    preembedded_model.train()\n",
    "    for i, batch in tqdm.notebook.tqdm(enumerate(\n",
    "            iterate_minibatches(data_train, batch_size=BATCH_SIZE, device=DEVICE)),\n",
    "            total=len(data_train) // BATCH_SIZE\n",
    "    ):\n",
    "        pred = preembedded_model(batch)\n",
    "        loss = criterion(pred, batch[TARGET_COLUMN])/BATCH_SIZE\n",
    "        optimizer.zero_grad()\n",
    "        loss.backward()\n",
    "        optimizer.step()\n",
    "\n",
    "    print_metrics(preembedded_model, data_val)"
   ],
   "metadata": {
    "collapsed": false,
    "pycharm": {
     "name": "#%%\n"
    }
   }
  },
  {
   "cell_type": "code",
   "execution_count": null,
   "outputs": [
    {
     "name": "stdout",
     "output_type": "stream",
     "text": [
      "epoch: 0\n"
     ]
    },
    {
     "data": {
      "text/plain": "  0%|          | 0/6119 [00:00<?, ?it/s]",
      "application/vnd.jupyter.widget-view+json": {
       "version_major": 2,
       "version_minor": 0,
       "model_id": "923f0239762a45298443e2534c7c2302"
      }
     },
     "metadata": {},
     "output_type": "display_data"
    },
    {
     "name": "stdout",
     "output_type": "stream",
     "text": [
      " results:\n",
      "Mean square error: 0.16733\n",
      "Mean absolute error: 0.31416\n",
      "epoch: 1\n"
     ]
    },
    {
     "data": {
      "text/plain": "  0%|          | 0/6119 [00:00<?, ?it/s]",
      "application/vnd.jupyter.widget-view+json": {
       "version_major": 2,
       "version_minor": 0,
       "model_id": "2a124a8023a84623a4633d88aa5e4f3d"
      }
     },
     "metadata": {},
     "output_type": "display_data"
    },
    {
     "name": "stdout",
     "output_type": "stream",
     "text": [
      " results:\n",
      "Mean square error: 0.14455\n",
      "Mean absolute error: 0.28897\n",
      "epoch: 2\n"
     ]
    },
    {
     "data": {
      "text/plain": "  0%|          | 0/6119 [00:00<?, ?it/s]",
      "application/vnd.jupyter.widget-view+json": {
       "version_major": 2,
       "version_minor": 0,
       "model_id": "2b637c61eac24b889ddc1c5b41619d33"
      }
     },
     "metadata": {},
     "output_type": "display_data"
    },
    {
     "name": "stdout",
     "output_type": "stream",
     "text": [
      " results:\n",
      "Mean square error: 0.13180\n",
      "Mean absolute error: 0.27803\n",
      "epoch: 3\n"
     ]
    },
    {
     "data": {
      "text/plain": "  0%|          | 0/6119 [00:00<?, ?it/s]",
      "application/vnd.jupyter.widget-view+json": {
       "version_major": 2,
       "version_minor": 0,
       "model_id": "2140f6900f94484d946ebe0a3e056bf5"
      }
     },
     "metadata": {},
     "output_type": "display_data"
    },
    {
     "name": "stdout",
     "output_type": "stream",
     "text": [
      " results:\n",
      "Mean square error: 0.10985\n",
      "Mean absolute error: 0.24912\n",
      "epoch: 6\n"
     ]
    },
    {
     "data": {
      "text/plain": "  0%|          | 0/6119 [00:00<?, ?it/s]",
      "application/vnd.jupyter.widget-view+json": {
       "version_major": 2,
       "version_minor": 0,
       "model_id": "a0263abe9a3246489e434d0ab98561f7"
      }
     },
     "metadata": {},
     "output_type": "display_data"
    },
    {
     "name": "stdout",
     "output_type": "stream",
     "text": [
      " results:\n",
      "Mean square error: 0.10796\n",
      "Mean absolute error: 0.24620\n",
      "epoch: 7\n"
     ]
    },
    {
     "data": {
      "text/plain": "  0%|          | 0/6119 [00:00<?, ?it/s]",
      "application/vnd.jupyter.widget-view+json": {
       "version_major": 2,
       "version_minor": 0,
       "model_id": "4bbdba8dbe7847fdadbc1550e59b93da"
      }
     },
     "metadata": {},
     "output_type": "display_data"
    },
    {
     "name": "stdout",
     "output_type": "stream",
     "text": [
      " results:\n",
      "Mean square error: 0.10442\n",
      "Mean absolute error: 0.24206\n",
      "epoch: 8\n"
     ]
    },
    {
     "data": {
      "text/plain": "  0%|          | 0/6119 [00:00<?, ?it/s]",
      "application/vnd.jupyter.widget-view+json": {
       "version_major": 2,
       "version_minor": 0,
       "model_id": "4f18eb0dbfbe4726984c805bfda7e5be"
      }
     },
     "metadata": {},
     "output_type": "display_data"
    },
    {
     "name": "stdout",
     "output_type": "stream",
     "text": [
      " results:\n",
      "Mean square error: 0.10025\n",
      "Mean absolute error: 0.23811\n",
      "epoch: 9\n"
     ]
    },
    {
     "data": {
      "text/plain": "  0%|          | 0/6119 [00:00<?, ?it/s]",
      "application/vnd.jupyter.widget-view+json": {
       "version_major": 2,
       "version_minor": 0,
       "model_id": "e93ca3f9bb924e8b8e66a4dd648c06c9"
      }
     },
     "metadata": {},
     "output_type": "display_data"
    },
    {
     "name": "stdout",
     "output_type": "stream",
     "text": [
      " results:\n",
      "Mean square error: 0.09831\n",
      "Mean absolute error: 0.23570\n"
     ]
    }
   ],
   "source": [
    "#adding Dropout\n",
    "\n",
    "BATCH_SIZE = 32\n",
    "EPOCHS = 10\n",
    "\n",
    "class SalaryPredictorPreEmbedded(nn.Module):\n",
    "    def __init__(self, n_tokens=len(count_vect.vocabulary_), n_cat_features=len(categorical_vectorizer.vocabulary_), hid_size=embeddings.vector_size):\n",
    "        super().__init__()\n",
    "        self.title_conv1 = nn.Conv1d(hid_size, 20, 3, padding='same')\n",
    "        self.title_conv2 = nn.Conv1d(hid_size, 20, 3, padding='same')\n",
    "        self.description_conv1 = nn.Conv1d(hid_size, 10, 3, padding='same')\n",
    "        self.description_conv2 = nn.Conv1d(hid_size, 10, 3, padding='same')\n",
    "        self.cat_features_embeddings = nn.Linear(n_cat_features, 10, False)\n",
    "        self.dropout_layer = nn.Dropout(p=0.01)\n",
    "        self.fc = nn.Linear(70, 1)\n",
    "\n",
    "    def forward(self, batch):\n",
    "        title = batch['Title']\n",
    "        title1 = self.title_conv1(title.permute(0,2,1))\n",
    "        title2 = self.title_conv2(title.permute(0,2,1))\n",
    "        title = torch.cat([title1, title2], dim=1)\n",
    "        title = title.max(dim=2)[0]\n",
    "        description = batch['FullDescription']\n",
    "        description1 = self.description_conv1(description.permute(0,2,1))\n",
    "        description2 = self.description_conv2(description.permute(0,2,1))\n",
    "        description = torch.cat([description1, description2], dim=1)\n",
    "        description = description.max(dim=2)[0]\n",
    "        cat_features = self.cat_features_embeddings(batch['Categorical'])\n",
    "        concatenated = torch.cat([title, description, cat_features], dim=1)\n",
    "        concatenated = self.dropout_layer(concatenated)\n",
    "        output = self.fc(concatenated)\n",
    "        return output.squeeze(dim=1)\n",
    "\n",
    "preembedded_model = SalaryPredictorPreEmbedded().to(DEVICE)\n",
    "criterion = nn.MSELoss(reduction='sum')\n",
    "optimizer = torch.optim.SGD(preembedded_model.parameters(), lr=1e-3)\n",
    "\n",
    "for epoch in range(EPOCHS):\n",
    "    print(f\"epoch: {epoch}\")\n",
    "    preembedded_model.train()\n",
    "    for i, batch in tqdm.notebook.tqdm(enumerate(\n",
    "            iterate_minibatches(data_train, batch_size=BATCH_SIZE, device=DEVICE)),\n",
    "            total=len(data_train) // BATCH_SIZE\n",
    "    ):\n",
    "        pred = preembedded_model(batch)\n",
    "        loss = criterion(pred, batch[TARGET_COLUMN])/BATCH_SIZE\n",
    "        optimizer.zero_grad()\n",
    "        loss.backward()\n",
    "        optimizer.step()\n",
    "\n",
    "    print_metrics(preembedded_model, data_val)"
   ],
   "metadata": {
    "collapsed": false,
    "pycharm": {
     "name": "#%%\n",
     "is_executing": true
    }
   }
  },
  {
   "cell_type": "code",
   "execution_count": null,
   "outputs": [
    {
     "name": "stdout",
     "output_type": "stream",
     "text": [
      "epoch: 0\n"
     ]
    },
    {
     "data": {
      "text/plain": "  0%|          | 0/6119 [00:00<?, ?it/s]",
      "application/vnd.jupyter.widget-view+json": {
       "version_major": 2,
       "version_minor": 0,
       "model_id": "b5a9169ec343404eba2ed23e3a260ebc"
      }
     },
     "metadata": {},
     "output_type": "display_data"
    },
    {
     "name": "stdout",
     "output_type": "stream",
     "text": [
      " results:\n",
      "Mean square error: 0.15302\n",
      "Mean absolute error: 0.29780\n",
      "epoch: 1\n"
     ]
    },
    {
     "data": {
      "text/plain": "  0%|          | 0/6119 [00:00<?, ?it/s]",
      "application/vnd.jupyter.widget-view+json": {
       "version_major": 2,
       "version_minor": 0,
       "model_id": "003cb4b0f88d49df9d0fd1808740e4b8"
      }
     },
     "metadata": {},
     "output_type": "display_data"
    },
    {
     "name": "stdout",
     "output_type": "stream",
     "text": [
      " results:\n",
      "Mean square error: 0.13028\n",
      "Mean absolute error: 0.27545\n",
      "epoch: 2\n"
     ]
    },
    {
     "data": {
      "text/plain": "  0%|          | 0/6119 [00:00<?, ?it/s]",
      "application/vnd.jupyter.widget-view+json": {
       "version_major": 2,
       "version_minor": 0,
       "model_id": "02f356e468c74d6291c0dcdbfd840d54"
      }
     },
     "metadata": {},
     "output_type": "display_data"
    },
    {
     "name": "stdout",
     "output_type": "stream",
     "text": [
      " results:\n",
      "Mean square error: 0.11925\n",
      "Mean absolute error: 0.26204\n",
      "epoch: 3\n"
     ]
    },
    {
     "data": {
      "text/plain": "  0%|          | 0/6119 [00:00<?, ?it/s]",
      "application/vnd.jupyter.widget-view+json": {
       "version_major": 2,
       "version_minor": 0,
       "model_id": "9f39bf57945d491a861bf7ec6725dd57"
      }
     },
     "metadata": {},
     "output_type": "display_data"
    },
    {
     "name": "stdout",
     "output_type": "stream",
     "text": [
      " results:\n",
      "Mean square error: 0.11280\n",
      "Mean absolute error: 0.25403\n",
      "epoch: 4\n"
     ]
    },
    {
     "data": {
      "text/plain": "  0%|          | 0/6119 [00:00<?, ?it/s]",
      "application/vnd.jupyter.widget-view+json": {
       "version_major": 2,
       "version_minor": 0,
       "model_id": "d2a87393138743558e1975fe4f94e4e1"
      }
     },
     "metadata": {},
     "output_type": "display_data"
    },
    {
     "name": "stdout",
     "output_type": "stream",
     "text": [
      " results:\n",
      "Mean square error: 0.10823\n",
      "Mean absolute error: 0.24796\n",
      "epoch: 5\n"
     ]
    },
    {
     "data": {
      "text/plain": "  0%|          | 0/6119 [00:00<?, ?it/s]",
      "application/vnd.jupyter.widget-view+json": {
       "version_major": 2,
       "version_minor": 0,
       "model_id": "74f51cb76f93471f9070938f47fab5c3"
      }
     },
     "metadata": {},
     "output_type": "display_data"
    },
    {
     "name": "stdout",
     "output_type": "stream",
     "text": [
      " results:\n",
      "Mean square error: 0.10375\n",
      "Mean absolute error: 0.24280\n",
      "epoch: 6\n"
     ]
    },
    {
     "data": {
      "text/plain": "  0%|          | 0/6119 [00:00<?, ?it/s]",
      "application/vnd.jupyter.widget-view+json": {
       "version_major": 2,
       "version_minor": 0,
       "model_id": "e8b4dddded1d41b38f7d34034ae6686f"
      }
     },
     "metadata": {},
     "output_type": "display_data"
    },
    {
     "name": "stdout",
     "output_type": "stream",
     "text": [
      " results:\n",
      "Mean square error: 0.10166\n",
      "Mean absolute error: 0.24128\n",
      "epoch: 7\n"
     ]
    },
    {
     "data": {
      "text/plain": "  0%|          | 0/6119 [00:00<?, ?it/s]",
      "application/vnd.jupyter.widget-view+json": {
       "version_major": 2,
       "version_minor": 0,
       "model_id": "b84e4e71f51d4b6a9e5563158922daf2"
      }
     },
     "metadata": {},
     "output_type": "display_data"
    },
    {
     "name": "stdout",
     "output_type": "stream",
     "text": [
      " results:\n",
      "Mean square error: 0.09950\n",
      "Mean absolute error: 0.23880\n",
      "epoch: 8\n"
     ]
    },
    {
     "data": {
      "text/plain": "  0%|          | 0/6119 [00:00<?, ?it/s]",
      "application/vnd.jupyter.widget-view+json": {
       "version_major": 2,
       "version_minor": 0,
       "model_id": "7f3a15ae82674daabc244615a2cfac31"
      }
     },
     "metadata": {},
     "output_type": "display_data"
    },
    {
     "name": "stdout",
     "output_type": "stream",
     "text": [
      " results:\n",
      "Mean square error: 0.09757\n",
      "Mean absolute error: 0.23631\n",
      "epoch: 9\n"
     ]
    },
    {
     "data": {
      "text/plain": "  0%|          | 0/6119 [00:00<?, ?it/s]",
      "application/vnd.jupyter.widget-view+json": {
       "version_major": 2,
       "version_minor": 0,
       "model_id": "f52d5bbed3e34991a4aa1044a9859fa3"
      }
     },
     "metadata": {},
     "output_type": "display_data"
    },
    {
     "name": "stdout",
     "output_type": "stream",
     "text": [
      " results:\n",
      "Mean square error: 0.09631\n",
      "Mean absolute error: 0.23265\n"
     ]
    }
   ],
   "source": [
    "#adding Batchnorm\n",
    "\n",
    "BATCH_SIZE = 32\n",
    "EPOCHS = 10\n",
    "\n",
    "class SalaryPredictorPreEmbedded(nn.Module):\n",
    "    def __init__(self, n_tokens=len(count_vect.vocabulary_), n_cat_features=len(categorical_vectorizer.vocabulary_), hid_size=embeddings.vector_size):\n",
    "        super().__init__()\n",
    "        self.title_conv1 = nn.Conv1d(hid_size, 20, 3, padding='same')\n",
    "        self.title_conv2 = nn.Conv1d(hid_size, 20, 3, padding='same')\n",
    "        self.description_conv1 = nn.Conv1d(hid_size, 10, 3, padding='same')\n",
    "        self.description_conv2 = nn.Conv1d(hid_size, 10, 3, padding='same')\n",
    "        self.cat_features_embeddings = nn.Linear(n_cat_features, 10, False)\n",
    "        self.cat_features_norm = nn.BatchNorm1d(10)\n",
    "        self.dropout_layer = nn.Dropout(p=0.01)\n",
    "        self.fc = nn.Linear(70, 1)\n",
    "\n",
    "    def forward(self, batch):\n",
    "        title = batch['Title']\n",
    "        title1 = self.title_conv1(title.permute(0,2,1))\n",
    "        title2 = self.title_conv2(title.permute(0,2,1))\n",
    "        title = torch.cat([title1, title2], dim=1)\n",
    "        title = title.max(dim=2)[0]\n",
    "        description = batch['FullDescription']\n",
    "        description1 = self.description_conv1(description.permute(0,2,1))\n",
    "        description2 = self.description_conv2(description.permute(0,2,1))\n",
    "        description = torch.cat([description1, description2], dim=1)\n",
    "        description = description.max(dim=2)[0]\n",
    "        cat_features = self.cat_features_embeddings(batch['Categorical'])\n",
    "        cat_features = self.cat_features_norm(cat_features)\n",
    "        concatenated = torch.cat([title, description, cat_features], dim=1)\n",
    "        concatenated = self.dropout_layer(concatenated)\n",
    "        output = self.fc(concatenated)\n",
    "        return output.squeeze(dim=1)\n",
    "\n",
    "preembedded_model = SalaryPredictorPreEmbedded().to(DEVICE)\n",
    "criterion = nn.MSELoss(reduction='sum')\n",
    "optimizer = torch.optim.SGD(preembedded_model.parameters(), lr=1e-3)\n",
    "\n",
    "for epoch in range(EPOCHS):\n",
    "    print(f\"epoch: {epoch}\")\n",
    "    preembedded_model.train()\n",
    "    for i, batch in tqdm.notebook.tqdm(enumerate(\n",
    "            iterate_minibatches(data_train, batch_size=BATCH_SIZE, device=DEVICE)),\n",
    "            total=len(data_train) // BATCH_SIZE\n",
    "    ):\n",
    "        pred = preembedded_model(batch)\n",
    "        loss = criterion(pred, batch[TARGET_COLUMN])/BATCH_SIZE\n",
    "        optimizer.zero_grad()\n",
    "        loss.backward()\n",
    "        optimizer.step()\n",
    "\n",
    "    print_metrics(preembedded_model, data_val)"
   ],
   "metadata": {
    "collapsed": false,
    "pycharm": {
     "name": "#%%\n",
     "is_executing": true
    }
   }
  },
  {
   "cell_type": "code",
   "execution_count": null,
   "outputs": [
    {
     "name": "stdout",
     "output_type": "stream",
     "text": [
      "epoch: 0\n"
     ]
    },
    {
     "data": {
      "text/plain": "  0%|          | 0/6119 [00:00<?, ?it/s]",
      "application/vnd.jupyter.widget-view+json": {
       "version_major": 2,
       "version_minor": 0,
       "model_id": "a3da1a705c78419cad1befdf6e287d50"
      }
     },
     "metadata": {},
     "output_type": "display_data"
    },
    {
     "name": "stdout",
     "output_type": "stream",
     "text": [
      " results:\n",
      "Mean square error: 0.11629\n",
      "Mean absolute error: 0.26089\n",
      "epoch: 1\n"
     ]
    },
    {
     "data": {
      "text/plain": "  0%|          | 0/6119 [00:00<?, ?it/s]",
      "application/vnd.jupyter.widget-view+json": {
       "version_major": 2,
       "version_minor": 0,
       "model_id": "012f1c49eda84cc09d878e8c54b679a8"
      }
     },
     "metadata": {},
     "output_type": "display_data"
    },
    {
     "name": "stdout",
     "output_type": "stream",
     "text": [
      " results:\n",
      "Mean square error: 0.10528\n",
      "Mean absolute error: 0.24665\n",
      "epoch: 2\n"
     ]
    },
    {
     "data": {
      "text/plain": "  0%|          | 0/6119 [00:00<?, ?it/s]",
      "application/vnd.jupyter.widget-view+json": {
       "version_major": 2,
       "version_minor": 0,
       "model_id": "e1256af8f97b4fcfa8208989701d116e"
      }
     },
     "metadata": {},
     "output_type": "display_data"
    },
    {
     "name": "stdout",
     "output_type": "stream",
     "text": [
      " results:\n",
      "Mean square error: 0.09989\n",
      "Mean absolute error: 0.23957\n",
      "epoch: 3\n"
     ]
    },
    {
     "data": {
      "text/plain": "  0%|          | 0/6119 [00:00<?, ?it/s]",
      "application/vnd.jupyter.widget-view+json": {
       "version_major": 2,
       "version_minor": 0,
       "model_id": "44fe8a86e95e4ce289d8219803f7a279"
      }
     },
     "metadata": {},
     "output_type": "display_data"
    },
    {
     "name": "stdout",
     "output_type": "stream",
     "text": [
      " results:\n",
      "Mean square error: 0.09695\n",
      "Mean absolute error: 0.23741\n",
      "epoch: 4\n"
     ]
    },
    {
     "data": {
      "text/plain": "  0%|          | 0/6119 [00:00<?, ?it/s]",
      "application/vnd.jupyter.widget-view+json": {
       "version_major": 2,
       "version_minor": 0,
       "model_id": "3498b2aeef3c495c9d68d45fc328d2e5"
      }
     },
     "metadata": {},
     "output_type": "display_data"
    },
    {
     "name": "stdout",
     "output_type": "stream",
     "text": [
      " results:\n",
      "Mean square error: 0.09269\n",
      "Mean absolute error: 0.23015\n",
      "epoch: 5\n"
     ]
    },
    {
     "data": {
      "text/plain": "  0%|          | 0/6119 [00:00<?, ?it/s]",
      "application/vnd.jupyter.widget-view+json": {
       "version_major": 2,
       "version_minor": 0,
       "model_id": "b07d65d0edea43df821329918f529a28"
      }
     },
     "metadata": {},
     "output_type": "display_data"
    },
    {
     "name": "stdout",
     "output_type": "stream",
     "text": [
      " results:\n",
      "Mean square error: 0.09046\n",
      "Mean absolute error: 0.22782\n",
      "epoch: 6\n"
     ]
    },
    {
     "data": {
      "text/plain": "  0%|          | 0/6119 [00:00<?, ?it/s]",
      "application/vnd.jupyter.widget-view+json": {
       "version_major": 2,
       "version_minor": 0,
       "model_id": "eea0e99fea9d44c9bab07c3ee75bf871"
      }
     },
     "metadata": {},
     "output_type": "display_data"
    },
    {
     "name": "stdout",
     "output_type": "stream",
     "text": [
      " results:\n",
      "Mean square error: 0.08881\n",
      "Mean absolute error: 0.22541\n",
      "epoch: 7\n"
     ]
    },
    {
     "data": {
      "text/plain": "  0%|          | 0/6119 [00:00<?, ?it/s]",
      "application/vnd.jupyter.widget-view+json": {
       "version_major": 2,
       "version_minor": 0,
       "model_id": "f22a458f6f63487d8302532f5a7b0559"
      }
     },
     "metadata": {},
     "output_type": "display_data"
    },
    {
     "name": "stdout",
     "output_type": "stream",
     "text": [
      " results:\n",
      "Mean square error: 0.08648\n",
      "Mean absolute error: 0.22198\n",
      "epoch: 8\n"
     ]
    },
    {
     "data": {
      "text/plain": "  0%|          | 0/6119 [00:00<?, ?it/s]",
      "application/vnd.jupyter.widget-view+json": {
       "version_major": 2,
       "version_minor": 0,
       "model_id": "963ccbb85f9141eead0859878d39034a"
      }
     },
     "metadata": {},
     "output_type": "display_data"
    },
    {
     "name": "stdout",
     "output_type": "stream",
     "text": [
      " results:\n",
      "Mean square error: 0.08650\n",
      "Mean absolute error: 0.22107\n",
      "epoch: 9\n"
     ]
    },
    {
     "data": {
      "text/plain": "  0%|          | 0/6119 [00:00<?, ?it/s]",
      "application/vnd.jupyter.widget-view+json": {
       "version_major": 2,
       "version_minor": 0,
       "model_id": "30a312eac34f49458f1aafd39ac7754e"
      }
     },
     "metadata": {},
     "output_type": "display_data"
    },
    {
     "name": "stdout",
     "output_type": "stream",
     "text": [
      " results:\n",
      "Mean square error: 0.08466\n",
      "Mean absolute error: 0.21860\n"
     ]
    }
   ],
   "source": [
    "\n",
    "#adding more FCs layers\n",
    "\n",
    "BATCH_SIZE = 32\n",
    "EPOCHS = 10\n",
    "\n",
    "class SalaryPredictorPreEmbedded(nn.Module):\n",
    "    def __init__(self, n_tokens=len(count_vect.vocabulary_), n_cat_features=len(categorical_vectorizer.vocabulary_), hid_size=embeddings.vector_size):\n",
    "        super().__init__()\n",
    "        self.title_conv1 = nn.Conv1d(hid_size, 20, 3, padding='same')\n",
    "        self.title_conv2 = nn.Conv1d(hid_size, 20, 3, padding='same')\n",
    "        self.description_conv1 = nn.Conv1d(hid_size, 10, 3, padding='same')\n",
    "        self.description_conv2 = nn.Conv1d(hid_size, 10, 3, padding='same')\n",
    "        self.cat_features_embeddings = nn.Linear(n_cat_features, 10, False)\n",
    "        self.cat_features_norm = nn.BatchNorm1d(10)\n",
    "        self.dropout_layer = nn.Dropout(p=0.01)\n",
    "        self.fc = nn.Linear(70, 20)\n",
    "        self.fc_norm = nn.BatchNorm1d(20)\n",
    "        self.fc_droput = nn.Dropout(p=0.01)\n",
    "        self.fc2 = nn.Linear(20, 1)\n",
    "\n",
    "\n",
    "    def forward(self, batch):\n",
    "        title = batch['Title']\n",
    "        title1 = self.title_conv1(title.permute(0,2,1))\n",
    "        title2 = self.title_conv2(title.permute(0,2,1))\n",
    "        title = torch.cat([title1, title2], dim=1)\n",
    "        title = title.max(dim=2)[0]\n",
    "        description = batch['FullDescription']\n",
    "        description1 = self.description_conv1(description.permute(0,2,1))\n",
    "        description2 = self.description_conv2(description.permute(0,2,1))\n",
    "        description = torch.cat([description1, description2], dim=1)\n",
    "        description = description.max(dim=2)[0]\n",
    "        cat_features = self.cat_features_embeddings(batch['Categorical'])\n",
    "        cat_features = self.cat_features_norm(cat_features)\n",
    "        concatenated = torch.cat([title, description, cat_features], dim=1)\n",
    "        concatenated = self.dropout_layer(concatenated)\n",
    "        output = self.fc(concatenated)\n",
    "        output = self.fc_norm(output)\n",
    "        output = self.fc_droput(output)\n",
    "        output = self.fc2(output)\n",
    "        return output.squeeze(dim=1)\n",
    "\n",
    "preembedded_model = SalaryPredictorPreEmbedded().to(DEVICE)\n",
    "criterion = nn.MSELoss(reduction='sum')\n",
    "optimizer = torch.optim.SGD(preembedded_model.parameters(), lr=1e-3)\n",
    "\n",
    "for epoch in range(EPOCHS):\n",
    "    print(f\"epoch: {epoch}\")\n",
    "    preembedded_model.train()\n",
    "    for i, batch in tqdm.notebook.tqdm(enumerate(\n",
    "            iterate_minibatches(data_train, batch_size=BATCH_SIZE, device=DEVICE)),\n",
    "            total=len(data_train) // BATCH_SIZE\n",
    "    ):\n",
    "        pred = preembedded_model(batch)\n",
    "        loss = criterion(pred, batch[TARGET_COLUMN])/BATCH_SIZE\n",
    "        optimizer.zero_grad()\n",
    "        loss.backward()\n",
    "        optimizer.step()\n",
    "\n",
    "    print_metrics(preembedded_model, data_val)"
   ],
   "metadata": {
    "collapsed": false,
    "pycharm": {
     "name": "#%%\n",
     "is_executing": true
    }
   }
  },
  {
   "cell_type": "markdown",
   "metadata": {
    "id": "W6PT4WXGFSEq"
   },
   "source": [
    "### A short report\n",
    "\n",
    "Please tell us what you did and how did it work.\n",
    "\n",
    "`<YOUR_TEXT_HERE>`, i guess..."
   ]
  },
  {
   "cell_type": "markdown",
   "metadata": {
    "id": "EhK1kyG0FSEq"
   },
   "source": [
    "## Recommended options\n",
    "\n",
    "#### A) CNN architecture\n",
    "\n",
    "All the tricks you know about dense and convolutional neural networks apply here as well.\n",
    "* Dropout. Nuff said.\n",
    "* Batch Norm. This time it's `nn.BatchNorm*`/`L.BatchNormalization`\n",
    "* Parallel convolution layers. The idea is that you apply several nn.Conv1d to the same embeddings and concatenate output channels.\n",
    "* More layers, more neurons, ya know...\n",
    "\n",
    "\n",
    "#### B) Play with pooling\n",
    "\n",
    "There's more than one way to perform pooling:\n",
    "* Max over time (independently for each feature)\n",
    "* Average over time (excluding PAD)\n",
    "* Softmax-pooling:\n",
    "$$ out_{i, t} = \\sum_t {h_{i,t} \\cdot {{e ^ {h_{i, t}}} \\over \\sum_\\tau e ^ {h_{j, \\tau}} } }$$\n",
    "\n",
    "* Attentive pooling\n",
    "$$ out_{i, t} = \\sum_t {h_{i,t} \\cdot Attn(h_t)}$$\n",
    "\n",
    ", where $$ Attn(h_t) = {{e ^ {NN_{attn}(h_t)}} \\over \\sum_\\tau e ^ {NN_{attn}(h_\\tau)}}  $$\n",
    "and $NN_{attn}$ is a dense layer.\n",
    "\n",
    "The optimal score is usually achieved by concatenating several different poolings, including several attentive pooling with different $NN_{attn}$ (aka multi-headed attention).\n",
    "\n",
    "The catch is that keras layers do not inlude those toys. You will have to [write your own keras layer](https://keras.io/layers/writing-your-own-keras-layers/). Or use pure tensorflow, it might even be easier :)\n",
    "\n",
    "#### C) Fun with words\n",
    "\n",
    "It's not always a good idea to train embeddings from scratch. Here's a few tricks:\n",
    "\n",
    "* Use a pre-trained embeddings from `gensim.downloader.load`. See last lecture.\n",
    "* Start with pre-trained embeddings, then fine-tune them with gradient descent. You may or may not download pre-trained embeddings from [here](http://nlp.stanford.edu/data/glove.6B.zip) and follow this [manual](https://keras.io/examples/nlp/pretrained_word_embeddings/) to initialize your Keras embedding layer with downloaded weights.\n",
    "* Use the same embedding matrix in title and desc vectorizer\n",
    "\n",
    "\n",
    "#### D) Going recurrent\n",
    "\n",
    "We've already learned that recurrent networks can do cool stuff in sequence modelling. Turns out, they're not useless for classification as well. With some tricks of course..\n",
    "\n",
    "* Like convolutional layers, LSTM should be pooled into a fixed-size vector with some of the poolings.\n",
    "* Since you know all the text in advance, use bidirectional RNN\n",
    "  * Run one LSTM from left to right\n",
    "  * Run another in parallel from right to left \n",
    "  * Concatenate their output sequences along unit axis (dim=-1)\n",
    "\n",
    "* It might be good idea to mix convolutions and recurrent layers differently for title and description\n",
    "\n",
    "\n",
    "#### E) Optimizing seriously\n",
    "\n",
    "* You don't necessarily need 100 epochs. Use early stopping. If you've never done this before, take a look at [early stopping callback(keras)](https://keras.io/callbacks/#earlystopping) or in [pytorch(lightning)](https://pytorch-lightning.readthedocs.io/en/latest/common/early_stopping.html).\n",
    "  * In short, train until you notice that validation\n",
    "  * Maintain the best-on-validation snapshot via `model.save(file_name)`\n",
    "  * Plotting learning curves is usually a good idea\n",
    "  \n",
    "Good luck! And may the force be with you!"
   ]
  },
  {
   "cell_type": "code",
   "execution_count": null,
   "metadata": {
    "id": "GcZUgsGJFSEs"
   },
   "outputs": [],
   "source": [
    ""
   ]
  }
 ],
 "metadata": {
  "kernelspec": {
   "display_name": "Python 3",
   "language": "python",
   "name": "python3"
  },
  "language_info": {
   "codemirror_mode": {
    "name": "ipython",
    "version": 3
   },
   "file_extension": ".py",
   "mimetype": "text/x-python",
   "name": "python",
   "nbconvert_exporter": "python",
   "pygments_lexer": "ipython3",
   "version": "3.8.1"
  },
  "colab": {
   "name": "HW W2 p2.ipynb",
   "provenance": [
    {
     "file_id": "https://github.com/yandexdataschool/nlp_course/blob/2021/week02_classification/homework_part2.ipynb",
     "timestamp": 1642927069777
    }
   ],
   "collapsed_sections": []
  },
  "widgets": {
   "application/vnd.jupyter.widget-state+json": {
    "88b31a4072984d6487835582e9b297a6": {
     "model_module": "@jupyter-widgets/controls",
     "model_name": "HBoxModel",
     "model_module_version": "1.5.0",
     "state": {
      "_view_name": "HBoxView",
      "_dom_classes": [],
      "_model_name": "HBoxModel",
      "_view_module": "@jupyter-widgets/controls",
      "_model_module_version": "1.5.0",
      "_view_count": null,
      "_view_module_version": "1.5.0",
      "box_style": "",
      "layout": "IPY_MODEL_22de46fc3c3e46a1bab10bbdaa1c0036",
      "_model_module": "@jupyter-widgets/controls",
      "children": [
       "IPY_MODEL_97a6f9cb3f0742afbc86cc7e05439d6e",
       "IPY_MODEL_7e068158ba4645cfae12c9cb6f5046f2",
       "IPY_MODEL_410509ee79224c34be4cd735d8d4e4ca"
      ]
     }
    },
    "22de46fc3c3e46a1bab10bbdaa1c0036": {
     "model_module": "@jupyter-widgets/base",
     "model_name": "LayoutModel",
     "model_module_version": "1.2.0",
     "state": {
      "_view_name": "LayoutView",
      "grid_template_rows": null,
      "right": null,
      "justify_content": null,
      "_view_module": "@jupyter-widgets/base",
      "overflow": null,
      "_model_module_version": "1.2.0",
      "_view_count": null,
      "flex_flow": null,
      "width": null,
      "min_width": null,
      "border": null,
      "align_items": null,
      "bottom": null,
      "_model_module": "@jupyter-widgets/base",
      "top": null,
      "grid_column": null,
      "overflow_y": null,
      "overflow_x": null,
      "grid_auto_flow": null,
      "grid_area": null,
      "grid_template_columns": null,
      "flex": null,
      "_model_name": "LayoutModel",
      "justify_items": null,
      "grid_row": null,
      "max_height": null,
      "align_content": null,
      "visibility": null,
      "align_self": null,
      "height": null,
      "min_height": null,
      "padding": null,
      "grid_auto_rows": null,
      "grid_gap": null,
      "max_width": null,
      "order": null,
      "_view_module_version": "1.2.0",
      "grid_template_areas": null,
      "object_position": null,
      "object_fit": null,
      "grid_auto_columns": null,
      "margin": null,
      "display": null,
      "left": null
     }
    },
    "97a6f9cb3f0742afbc86cc7e05439d6e": {
     "model_module": "@jupyter-widgets/controls",
     "model_name": "HTMLModel",
     "model_module_version": "1.5.0",
     "state": {
      "_view_name": "HTMLView",
      "style": "IPY_MODEL_2d690b55902c47969e81ecfc2c0a7486",
      "_dom_classes": [],
      "description": "",
      "_model_name": "HTMLModel",
      "placeholder": "​",
      "_view_module": "@jupyter-widgets/controls",
      "_model_module_version": "1.5.0",
      "value": "",
      "_view_count": null,
      "_view_module_version": "1.5.0",
      "description_tooltip": null,
      "_model_module": "@jupyter-widgets/controls",
      "layout": "IPY_MODEL_8755a4df230e4580aaefdf1e36b857df"
     }
    },
    "7e068158ba4645cfae12c9cb6f5046f2": {
     "model_module": "@jupyter-widgets/controls",
     "model_name": "FloatProgressModel",
     "model_module_version": "1.5.0",
     "state": {
      "_view_name": "ProgressView",
      "style": "IPY_MODEL_7087ee74939e4158b2d8c530523cd38a",
      "_dom_classes": [],
      "description": "",
      "_model_name": "FloatProgressModel",
      "bar_style": "success",
      "max": 6119,
      "_view_module": "@jupyter-widgets/controls",
      "_model_module_version": "1.5.0",
      "value": 6119,
      "_view_count": null,
      "_view_module_version": "1.5.0",
      "orientation": "horizontal",
      "min": 0,
      "description_tooltip": null,
      "_model_module": "@jupyter-widgets/controls",
      "layout": "IPY_MODEL_13740971f8944ad684f95d97cb17d396"
     }
    },
    "410509ee79224c34be4cd735d8d4e4ca": {
     "model_module": "@jupyter-widgets/controls",
     "model_name": "HTMLModel",
     "model_module_version": "1.5.0",
     "state": {
      "_view_name": "HTMLView",
      "style": "IPY_MODEL_6f1f7a571c374ff293fc138c63f93eb4",
      "_dom_classes": [],
      "description": "",
      "_model_name": "HTMLModel",
      "placeholder": "​",
      "_view_module": "@jupyter-widgets/controls",
      "_model_module_version": "1.5.0",
      "value": " 6120/? [13:21&lt;00:00,  7.75it/s]",
      "_view_count": null,
      "_view_module_version": "1.5.0",
      "description_tooltip": null,
      "_model_module": "@jupyter-widgets/controls",
      "layout": "IPY_MODEL_451c44429d8b4bcf855f0feeab40f9f3"
     }
    },
    "2d690b55902c47969e81ecfc2c0a7486": {
     "model_module": "@jupyter-widgets/controls",
     "model_name": "DescriptionStyleModel",
     "model_module_version": "1.5.0",
     "state": {
      "_view_name": "StyleView",
      "_model_name": "DescriptionStyleModel",
      "description_width": "",
      "_view_module": "@jupyter-widgets/base",
      "_model_module_version": "1.5.0",
      "_view_count": null,
      "_view_module_version": "1.2.0",
      "_model_module": "@jupyter-widgets/controls"
     }
    },
    "8755a4df230e4580aaefdf1e36b857df": {
     "model_module": "@jupyter-widgets/base",
     "model_name": "LayoutModel",
     "model_module_version": "1.2.0",
     "state": {
      "_view_name": "LayoutView",
      "grid_template_rows": null,
      "right": null,
      "justify_content": null,
      "_view_module": "@jupyter-widgets/base",
      "overflow": null,
      "_model_module_version": "1.2.0",
      "_view_count": null,
      "flex_flow": null,
      "width": null,
      "min_width": null,
      "border": null,
      "align_items": null,
      "bottom": null,
      "_model_module": "@jupyter-widgets/base",
      "top": null,
      "grid_column": null,
      "overflow_y": null,
      "overflow_x": null,
      "grid_auto_flow": null,
      "grid_area": null,
      "grid_template_columns": null,
      "flex": null,
      "_model_name": "LayoutModel",
      "justify_items": null,
      "grid_row": null,
      "max_height": null,
      "align_content": null,
      "visibility": null,
      "align_self": null,
      "height": null,
      "min_height": null,
      "padding": null,
      "grid_auto_rows": null,
      "grid_gap": null,
      "max_width": null,
      "order": null,
      "_view_module_version": "1.2.0",
      "grid_template_areas": null,
      "object_position": null,
      "object_fit": null,
      "grid_auto_columns": null,
      "margin": null,
      "display": null,
      "left": null
     }
    },
    "7087ee74939e4158b2d8c530523cd38a": {
     "model_module": "@jupyter-widgets/controls",
     "model_name": "ProgressStyleModel",
     "model_module_version": "1.5.0",
     "state": {
      "_view_name": "StyleView",
      "_model_name": "ProgressStyleModel",
      "description_width": "",
      "_view_module": "@jupyter-widgets/base",
      "_model_module_version": "1.5.0",
      "_view_count": null,
      "_view_module_version": "1.2.0",
      "bar_color": null,
      "_model_module": "@jupyter-widgets/controls"
     }
    },
    "13740971f8944ad684f95d97cb17d396": {
     "model_module": "@jupyter-widgets/base",
     "model_name": "LayoutModel",
     "model_module_version": "1.2.0",
     "state": {
      "_view_name": "LayoutView",
      "grid_template_rows": null,
      "right": null,
      "justify_content": null,
      "_view_module": "@jupyter-widgets/base",
      "overflow": null,
      "_model_module_version": "1.2.0",
      "_view_count": null,
      "flex_flow": null,
      "width": null,
      "min_width": null,
      "border": null,
      "align_items": null,
      "bottom": null,
      "_model_module": "@jupyter-widgets/base",
      "top": null,
      "grid_column": null,
      "overflow_y": null,
      "overflow_x": null,
      "grid_auto_flow": null,
      "grid_area": null,
      "grid_template_columns": null,
      "flex": null,
      "_model_name": "LayoutModel",
      "justify_items": null,
      "grid_row": null,
      "max_height": null,
      "align_content": null,
      "visibility": null,
      "align_self": null,
      "height": null,
      "min_height": null,
      "padding": null,
      "grid_auto_rows": null,
      "grid_gap": null,
      "max_width": null,
      "order": null,
      "_view_module_version": "1.2.0",
      "grid_template_areas": null,
      "object_position": null,
      "object_fit": null,
      "grid_auto_columns": null,
      "margin": null,
      "display": null,
      "left": null
     }
    },
    "6f1f7a571c374ff293fc138c63f93eb4": {
     "model_module": "@jupyter-widgets/controls",
     "model_name": "DescriptionStyleModel",
     "model_module_version": "1.5.0",
     "state": {
      "_view_name": "StyleView",
      "_model_name": "DescriptionStyleModel",
      "description_width": "",
      "_view_module": "@jupyter-widgets/base",
      "_model_module_version": "1.5.0",
      "_view_count": null,
      "_view_module_version": "1.2.0",
      "_model_module": "@jupyter-widgets/controls"
     }
    },
    "451c44429d8b4bcf855f0feeab40f9f3": {
     "model_module": "@jupyter-widgets/base",
     "model_name": "LayoutModel",
     "model_module_version": "1.2.0",
     "state": {
      "_view_name": "LayoutView",
      "grid_template_rows": null,
      "right": null,
      "justify_content": null,
      "_view_module": "@jupyter-widgets/base",
      "overflow": null,
      "_model_module_version": "1.2.0",
      "_view_count": null,
      "flex_flow": null,
      "width": null,
      "min_width": null,
      "border": null,
      "align_items": null,
      "bottom": null,
      "_model_module": "@jupyter-widgets/base",
      "top": null,
      "grid_column": null,
      "overflow_y": null,
      "overflow_x": null,
      "grid_auto_flow": null,
      "grid_area": null,
      "grid_template_columns": null,
      "flex": null,
      "_model_name": "LayoutModel",
      "justify_items": null,
      "grid_row": null,
      "max_height": null,
      "align_content": null,
      "visibility": null,
      "align_self": null,
      "height": null,
      "min_height": null,
      "padding": null,
      "grid_auto_rows": null,
      "grid_gap": null,
      "max_width": null,
      "order": null,
      "_view_module_version": "1.2.0",
      "grid_template_areas": null,
      "object_position": null,
      "object_fit": null,
      "grid_auto_columns": null,
      "margin": null,
      "display": null,
      "left": null
     }
    },
    "3344ee9f49ba4262b3b3440291223eaf": {
     "model_module": "@jupyter-widgets/controls",
     "model_name": "HBoxModel",
     "model_module_version": "1.5.0",
     "state": {
      "_view_name": "HBoxView",
      "_dom_classes": [],
      "_model_name": "HBoxModel",
      "_view_module": "@jupyter-widgets/controls",
      "_model_module_version": "1.5.0",
      "_view_count": null,
      "_view_module_version": "1.5.0",
      "box_style": "",
      "layout": "IPY_MODEL_3b29c80f0df747478d6f51b397670c72",
      "_model_module": "@jupyter-widgets/controls",
      "children": [
       "IPY_MODEL_bce851b496bd4a37af34b8ced6d0cdc9",
       "IPY_MODEL_4e50d7489fef46db8db4b9d852522c7c",
       "IPY_MODEL_13990b567ee142cf96c0f00985e49001"
      ]
     }
    },
    "3b29c80f0df747478d6f51b397670c72": {
     "model_module": "@jupyter-widgets/base",
     "model_name": "LayoutModel",
     "model_module_version": "1.2.0",
     "state": {
      "_view_name": "LayoutView",
      "grid_template_rows": null,
      "right": null,
      "justify_content": null,
      "_view_module": "@jupyter-widgets/base",
      "overflow": null,
      "_model_module_version": "1.2.0",
      "_view_count": null,
      "flex_flow": null,
      "width": null,
      "min_width": null,
      "border": null,
      "align_items": null,
      "bottom": null,
      "_model_module": "@jupyter-widgets/base",
      "top": null,
      "grid_column": null,
      "overflow_y": null,
      "overflow_x": null,
      "grid_auto_flow": null,
      "grid_area": null,
      "grid_template_columns": null,
      "flex": null,
      "_model_name": "LayoutModel",
      "justify_items": null,
      "grid_row": null,
      "max_height": null,
      "align_content": null,
      "visibility": null,
      "align_self": null,
      "height": null,
      "min_height": null,
      "padding": null,
      "grid_auto_rows": null,
      "grid_gap": null,
      "max_width": null,
      "order": null,
      "_view_module_version": "1.2.0",
      "grid_template_areas": null,
      "object_position": null,
      "object_fit": null,
      "grid_auto_columns": null,
      "margin": null,
      "display": null,
      "left": null
     }
    },
    "bce851b496bd4a37af34b8ced6d0cdc9": {
     "model_module": "@jupyter-widgets/controls",
     "model_name": "HTMLModel",
     "model_module_version": "1.5.0",
     "state": {
      "_view_name": "HTMLView",
      "style": "IPY_MODEL_acf124b960134abb99e9e7ae997a9121",
      "_dom_classes": [],
      "description": "",
      "_model_name": "HTMLModel",
      "placeholder": "​",
      "_view_module": "@jupyter-widgets/controls",
      "_model_module_version": "1.5.0",
      "value": "",
      "_view_count": null,
      "_view_module_version": "1.5.0",
      "description_tooltip": null,
      "_model_module": "@jupyter-widgets/controls",
      "layout": "IPY_MODEL_bdb7de42c79541068e9c2ef2bc341622"
     }
    },
    "4e50d7489fef46db8db4b9d852522c7c": {
     "model_module": "@jupyter-widgets/controls",
     "model_name": "FloatProgressModel",
     "model_module_version": "1.5.0",
     "state": {
      "_view_name": "ProgressView",
      "style": "IPY_MODEL_c9de5bee41fe49b59df0c1df1306752a",
      "_dom_classes": [],
      "description": "",
      "_model_name": "FloatProgressModel",
      "bar_style": "success",
      "max": 6119,
      "_view_module": "@jupyter-widgets/controls",
      "_model_module_version": "1.5.0",
      "value": 6119,
      "_view_count": null,
      "_view_module_version": "1.5.0",
      "orientation": "horizontal",
      "min": 0,
      "description_tooltip": null,
      "_model_module": "@jupyter-widgets/controls",
      "layout": "IPY_MODEL_5d6f79af98c943ea870e0168ac3dc7a9"
     }
    },
    "13990b567ee142cf96c0f00985e49001": {
     "model_module": "@jupyter-widgets/controls",
     "model_name": "HTMLModel",
     "model_module_version": "1.5.0",
     "state": {
      "_view_name": "HTMLView",
      "style": "IPY_MODEL_98e038d25eed474ead6969b9d8498aad",
      "_dom_classes": [],
      "description": "",
      "_model_name": "HTMLModel",
      "placeholder": "​",
      "_view_module": "@jupyter-widgets/controls",
      "_model_module_version": "1.5.0",
      "value": " 6120/? [13:10&lt;00:00,  7.84it/s]",
      "_view_count": null,
      "_view_module_version": "1.5.0",
      "description_tooltip": null,
      "_model_module": "@jupyter-widgets/controls",
      "layout": "IPY_MODEL_cf80adfdbf054bc994aa2e4727a8579e"
     }
    },
    "acf124b960134abb99e9e7ae997a9121": {
     "model_module": "@jupyter-widgets/controls",
     "model_name": "DescriptionStyleModel",
     "model_module_version": "1.5.0",
     "state": {
      "_view_name": "StyleView",
      "_model_name": "DescriptionStyleModel",
      "description_width": "",
      "_view_module": "@jupyter-widgets/base",
      "_model_module_version": "1.5.0",
      "_view_count": null,
      "_view_module_version": "1.2.0",
      "_model_module": "@jupyter-widgets/controls"
     }
    },
    "bdb7de42c79541068e9c2ef2bc341622": {
     "model_module": "@jupyter-widgets/base",
     "model_name": "LayoutModel",
     "model_module_version": "1.2.0",
     "state": {
      "_view_name": "LayoutView",
      "grid_template_rows": null,
      "right": null,
      "justify_content": null,
      "_view_module": "@jupyter-widgets/base",
      "overflow": null,
      "_model_module_version": "1.2.0",
      "_view_count": null,
      "flex_flow": null,
      "width": null,
      "min_width": null,
      "border": null,
      "align_items": null,
      "bottom": null,
      "_model_module": "@jupyter-widgets/base",
      "top": null,
      "grid_column": null,
      "overflow_y": null,
      "overflow_x": null,
      "grid_auto_flow": null,
      "grid_area": null,
      "grid_template_columns": null,
      "flex": null,
      "_model_name": "LayoutModel",
      "justify_items": null,
      "grid_row": null,
      "max_height": null,
      "align_content": null,
      "visibility": null,
      "align_self": null,
      "height": null,
      "min_height": null,
      "padding": null,
      "grid_auto_rows": null,
      "grid_gap": null,
      "max_width": null,
      "order": null,
      "_view_module_version": "1.2.0",
      "grid_template_areas": null,
      "object_position": null,
      "object_fit": null,
      "grid_auto_columns": null,
      "margin": null,
      "display": null,
      "left": null
     }
    },
    "c9de5bee41fe49b59df0c1df1306752a": {
     "model_module": "@jupyter-widgets/controls",
     "model_name": "ProgressStyleModel",
     "model_module_version": "1.5.0",
     "state": {
      "_view_name": "StyleView",
      "_model_name": "ProgressStyleModel",
      "description_width": "",
      "_view_module": "@jupyter-widgets/base",
      "_model_module_version": "1.5.0",
      "_view_count": null,
      "_view_module_version": "1.2.0",
      "bar_color": null,
      "_model_module": "@jupyter-widgets/controls"
     }
    },
    "5d6f79af98c943ea870e0168ac3dc7a9": {
     "model_module": "@jupyter-widgets/base",
     "model_name": "LayoutModel",
     "model_module_version": "1.2.0",
     "state": {
      "_view_name": "LayoutView",
      "grid_template_rows": null,
      "right": null,
      "justify_content": null,
      "_view_module": "@jupyter-widgets/base",
      "overflow": null,
      "_model_module_version": "1.2.0",
      "_view_count": null,
      "flex_flow": null,
      "width": null,
      "min_width": null,
      "border": null,
      "align_items": null,
      "bottom": null,
      "_model_module": "@jupyter-widgets/base",
      "top": null,
      "grid_column": null,
      "overflow_y": null,
      "overflow_x": null,
      "grid_auto_flow": null,
      "grid_area": null,
      "grid_template_columns": null,
      "flex": null,
      "_model_name": "LayoutModel",
      "justify_items": null,
      "grid_row": null,
      "max_height": null,
      "align_content": null,
      "visibility": null,
      "align_self": null,
      "height": null,
      "min_height": null,
      "padding": null,
      "grid_auto_rows": null,
      "grid_gap": null,
      "max_width": null,
      "order": null,
      "_view_module_version": "1.2.0",
      "grid_template_areas": null,
      "object_position": null,
      "object_fit": null,
      "grid_auto_columns": null,
      "margin": null,
      "display": null,
      "left": null
     }
    },
    "98e038d25eed474ead6969b9d8498aad": {
     "model_module": "@jupyter-widgets/controls",
     "model_name": "DescriptionStyleModel",
     "model_module_version": "1.5.0",
     "state": {
      "_view_name": "StyleView",
      "_model_name": "DescriptionStyleModel",
      "description_width": "",
      "_view_module": "@jupyter-widgets/base",
      "_model_module_version": "1.5.0",
      "_view_count": null,
      "_view_module_version": "1.2.0",
      "_model_module": "@jupyter-widgets/controls"
     }
    },
    "cf80adfdbf054bc994aa2e4727a8579e": {
     "model_module": "@jupyter-widgets/base",
     "model_name": "LayoutModel",
     "model_module_version": "1.2.0",
     "state": {
      "_view_name": "LayoutView",
      "grid_template_rows": null,
      "right": null,
      "justify_content": null,
      "_view_module": "@jupyter-widgets/base",
      "overflow": null,
      "_model_module_version": "1.2.0",
      "_view_count": null,
      "flex_flow": null,
      "width": null,
      "min_width": null,
      "border": null,
      "align_items": null,
      "bottom": null,
      "_model_module": "@jupyter-widgets/base",
      "top": null,
      "grid_column": null,
      "overflow_y": null,
      "overflow_x": null,
      "grid_auto_flow": null,
      "grid_area": null,
      "grid_template_columns": null,
      "flex": null,
      "_model_name": "LayoutModel",
      "justify_items": null,
      "grid_row": null,
      "max_height": null,
      "align_content": null,
      "visibility": null,
      "align_self": null,
      "height": null,
      "min_height": null,
      "padding": null,
      "grid_auto_rows": null,
      "grid_gap": null,
      "max_width": null,
      "order": null,
      "_view_module_version": "1.2.0",
      "grid_template_areas": null,
      "object_position": null,
      "object_fit": null,
      "grid_auto_columns": null,
      "margin": null,
      "display": null,
      "left": null
     }
    },
    "96c0a414f4fd4413815ed605b45d3701": {
     "model_module": "@jupyter-widgets/controls",
     "model_name": "HBoxModel",
     "model_module_version": "1.5.0",
     "state": {
      "_view_name": "HBoxView",
      "_dom_classes": [],
      "_model_name": "HBoxModel",
      "_view_module": "@jupyter-widgets/controls",
      "_model_module_version": "1.5.0",
      "_view_count": null,
      "_view_module_version": "1.5.0",
      "box_style": "",
      "layout": "IPY_MODEL_6209f0f20e2d421b99bb26eef786148d",
      "_model_module": "@jupyter-widgets/controls",
      "children": [
       "IPY_MODEL_9c7f97f15e18450c83dceae97ee3fffb",
       "IPY_MODEL_979d3619e12b40918ec4c39919fe6c9a",
       "IPY_MODEL_197c46b67d20444b8960608613c0f264"
      ]
     }
    },
    "6209f0f20e2d421b99bb26eef786148d": {
     "model_module": "@jupyter-widgets/base",
     "model_name": "LayoutModel",
     "model_module_version": "1.2.0",
     "state": {
      "_view_name": "LayoutView",
      "grid_template_rows": null,
      "right": null,
      "justify_content": null,
      "_view_module": "@jupyter-widgets/base",
      "overflow": null,
      "_model_module_version": "1.2.0",
      "_view_count": null,
      "flex_flow": null,
      "width": null,
      "min_width": null,
      "border": null,
      "align_items": null,
      "bottom": null,
      "_model_module": "@jupyter-widgets/base",
      "top": null,
      "grid_column": null,
      "overflow_y": null,
      "overflow_x": null,
      "grid_auto_flow": null,
      "grid_area": null,
      "grid_template_columns": null,
      "flex": null,
      "_model_name": "LayoutModel",
      "justify_items": null,
      "grid_row": null,
      "max_height": null,
      "align_content": null,
      "visibility": null,
      "align_self": null,
      "height": null,
      "min_height": null,
      "padding": null,
      "grid_auto_rows": null,
      "grid_gap": null,
      "max_width": null,
      "order": null,
      "_view_module_version": "1.2.0",
      "grid_template_areas": null,
      "object_position": null,
      "object_fit": null,
      "grid_auto_columns": null,
      "margin": null,
      "display": null,
      "left": null
     }
    },
    "9c7f97f15e18450c83dceae97ee3fffb": {
     "model_module": "@jupyter-widgets/controls",
     "model_name": "HTMLModel",
     "model_module_version": "1.5.0",
     "state": {
      "_view_name": "HTMLView",
      "style": "IPY_MODEL_b73d086c1fcf4aa9a2cffe7de0a50484",
      "_dom_classes": [],
      "description": "",
      "_model_name": "HTMLModel",
      "placeholder": "​",
      "_view_module": "@jupyter-widgets/controls",
      "_model_module_version": "1.5.0",
      "value": "",
      "_view_count": null,
      "_view_module_version": "1.5.0",
      "description_tooltip": null,
      "_model_module": "@jupyter-widgets/controls",
      "layout": "IPY_MODEL_8bf1692ea4594cc9a272829ff4885413"
     }
    },
    "979d3619e12b40918ec4c39919fe6c9a": {
     "model_module": "@jupyter-widgets/controls",
     "model_name": "FloatProgressModel",
     "model_module_version": "1.5.0",
     "state": {
      "_view_name": "ProgressView",
      "style": "IPY_MODEL_322b4377fb794d7da4fbbdde39705aca",
      "_dom_classes": [],
      "description": "",
      "_model_name": "FloatProgressModel",
      "bar_style": "success",
      "max": 6119,
      "_view_module": "@jupyter-widgets/controls",
      "_model_module_version": "1.5.0",
      "value": 6119,
      "_view_count": null,
      "_view_module_version": "1.5.0",
      "orientation": "horizontal",
      "min": 0,
      "description_tooltip": null,
      "_model_module": "@jupyter-widgets/controls",
      "layout": "IPY_MODEL_893995ced57a4ff5b95fcb7fe700c076"
     }
    },
    "197c46b67d20444b8960608613c0f264": {
     "model_module": "@jupyter-widgets/controls",
     "model_name": "HTMLModel",
     "model_module_version": "1.5.0",
     "state": {
      "_view_name": "HTMLView",
      "style": "IPY_MODEL_867187c080f240039123985d7168264d",
      "_dom_classes": [],
      "description": "",
      "_model_name": "HTMLModel",
      "placeholder": "​",
      "_view_module": "@jupyter-widgets/controls",
      "_model_module_version": "1.5.0",
      "value": " 6120/? [13:06&lt;00:00,  7.82it/s]",
      "_view_count": null,
      "_view_module_version": "1.5.0",
      "description_tooltip": null,
      "_model_module": "@jupyter-widgets/controls",
      "layout": "IPY_MODEL_6272f920df184a048f29033ba5159ced"
     }
    },
    "b73d086c1fcf4aa9a2cffe7de0a50484": {
     "model_module": "@jupyter-widgets/controls",
     "model_name": "DescriptionStyleModel",
     "model_module_version": "1.5.0",
     "state": {
      "_view_name": "StyleView",
      "_model_name": "DescriptionStyleModel",
      "description_width": "",
      "_view_module": "@jupyter-widgets/base",
      "_model_module_version": "1.5.0",
      "_view_count": null,
      "_view_module_version": "1.2.0",
      "_model_module": "@jupyter-widgets/controls"
     }
    },
    "8bf1692ea4594cc9a272829ff4885413": {
     "model_module": "@jupyter-widgets/base",
     "model_name": "LayoutModel",
     "model_module_version": "1.2.0",
     "state": {
      "_view_name": "LayoutView",
      "grid_template_rows": null,
      "right": null,
      "justify_content": null,
      "_view_module": "@jupyter-widgets/base",
      "overflow": null,
      "_model_module_version": "1.2.0",
      "_view_count": null,
      "flex_flow": null,
      "width": null,
      "min_width": null,
      "border": null,
      "align_items": null,
      "bottom": null,
      "_model_module": "@jupyter-widgets/base",
      "top": null,
      "grid_column": null,
      "overflow_y": null,
      "overflow_x": null,
      "grid_auto_flow": null,
      "grid_area": null,
      "grid_template_columns": null,
      "flex": null,
      "_model_name": "LayoutModel",
      "justify_items": null,
      "grid_row": null,
      "max_height": null,
      "align_content": null,
      "visibility": null,
      "align_self": null,
      "height": null,
      "min_height": null,
      "padding": null,
      "grid_auto_rows": null,
      "grid_gap": null,
      "max_width": null,
      "order": null,
      "_view_module_version": "1.2.0",
      "grid_template_areas": null,
      "object_position": null,
      "object_fit": null,
      "grid_auto_columns": null,
      "margin": null,
      "display": null,
      "left": null
     }
    },
    "322b4377fb794d7da4fbbdde39705aca": {
     "model_module": "@jupyter-widgets/controls",
     "model_name": "ProgressStyleModel",
     "model_module_version": "1.5.0",
     "state": {
      "_view_name": "StyleView",
      "_model_name": "ProgressStyleModel",
      "description_width": "",
      "_view_module": "@jupyter-widgets/base",
      "_model_module_version": "1.5.0",
      "_view_count": null,
      "_view_module_version": "1.2.0",
      "bar_color": null,
      "_model_module": "@jupyter-widgets/controls"
     }
    },
    "893995ced57a4ff5b95fcb7fe700c076": {
     "model_module": "@jupyter-widgets/base",
     "model_name": "LayoutModel",
     "model_module_version": "1.2.0",
     "state": {
      "_view_name": "LayoutView",
      "grid_template_rows": null,
      "right": null,
      "justify_content": null,
      "_view_module": "@jupyter-widgets/base",
      "overflow": null,
      "_model_module_version": "1.2.0",
      "_view_count": null,
      "flex_flow": null,
      "width": null,
      "min_width": null,
      "border": null,
      "align_items": null,
      "bottom": null,
      "_model_module": "@jupyter-widgets/base",
      "top": null,
      "grid_column": null,
      "overflow_y": null,
      "overflow_x": null,
      "grid_auto_flow": null,
      "grid_area": null,
      "grid_template_columns": null,
      "flex": null,
      "_model_name": "LayoutModel",
      "justify_items": null,
      "grid_row": null,
      "max_height": null,
      "align_content": null,
      "visibility": null,
      "align_self": null,
      "height": null,
      "min_height": null,
      "padding": null,
      "grid_auto_rows": null,
      "grid_gap": null,
      "max_width": null,
      "order": null,
      "_view_module_version": "1.2.0",
      "grid_template_areas": null,
      "object_position": null,
      "object_fit": null,
      "grid_auto_columns": null,
      "margin": null,
      "display": null,
      "left": null
     }
    },
    "867187c080f240039123985d7168264d": {
     "model_module": "@jupyter-widgets/controls",
     "model_name": "DescriptionStyleModel",
     "model_module_version": "1.5.0",
     "state": {
      "_view_name": "StyleView",
      "_model_name": "DescriptionStyleModel",
      "description_width": "",
      "_view_module": "@jupyter-widgets/base",
      "_model_module_version": "1.5.0",
      "_view_count": null,
      "_view_module_version": "1.2.0",
      "_model_module": "@jupyter-widgets/controls"
     }
    },
    "6272f920df184a048f29033ba5159ced": {
     "model_module": "@jupyter-widgets/base",
     "model_name": "LayoutModel",
     "model_module_version": "1.2.0",
     "state": {
      "_view_name": "LayoutView",
      "grid_template_rows": null,
      "right": null,
      "justify_content": null,
      "_view_module": "@jupyter-widgets/base",
      "overflow": null,
      "_model_module_version": "1.2.0",
      "_view_count": null,
      "flex_flow": null,
      "width": null,
      "min_width": null,
      "border": null,
      "align_items": null,
      "bottom": null,
      "_model_module": "@jupyter-widgets/base",
      "top": null,
      "grid_column": null,
      "overflow_y": null,
      "overflow_x": null,
      "grid_auto_flow": null,
      "grid_area": null,
      "grid_template_columns": null,
      "flex": null,
      "_model_name": "LayoutModel",
      "justify_items": null,
      "grid_row": null,
      "max_height": null,
      "align_content": null,
      "visibility": null,
      "align_self": null,
      "height": null,
      "min_height": null,
      "padding": null,
      "grid_auto_rows": null,
      "grid_gap": null,
      "max_width": null,
      "order": null,
      "_view_module_version": "1.2.0",
      "grid_template_areas": null,
      "object_position": null,
      "object_fit": null,
      "grid_auto_columns": null,
      "margin": null,
      "display": null,
      "left": null
     }
    },
    "efe1d9344f564930b779de179aa6e96c": {
     "model_module": "@jupyter-widgets/controls",
     "model_name": "HBoxModel",
     "model_module_version": "1.5.0",
     "state": {
      "_view_name": "HBoxView",
      "_dom_classes": [],
      "_model_name": "HBoxModel",
      "_view_module": "@jupyter-widgets/controls",
      "_model_module_version": "1.5.0",
      "_view_count": null,
      "_view_module_version": "1.5.0",
      "box_style": "",
      "layout": "IPY_MODEL_a1fb84ecc9534581822e0700ae51910f",
      "_model_module": "@jupyter-widgets/controls",
      "children": [
       "IPY_MODEL_15442bc3842447679fb0dc37eab83f60",
       "IPY_MODEL_e94cf58bedb34784be72b9b13fdf0c04",
       "IPY_MODEL_d3b684d894ee4b6991665611c830375f"
      ]
     }
    },
    "a1fb84ecc9534581822e0700ae51910f": {
     "model_module": "@jupyter-widgets/base",
     "model_name": "LayoutModel",
     "model_module_version": "1.2.0",
     "state": {
      "_view_name": "LayoutView",
      "grid_template_rows": null,
      "right": null,
      "justify_content": null,
      "_view_module": "@jupyter-widgets/base",
      "overflow": null,
      "_model_module_version": "1.2.0",
      "_view_count": null,
      "flex_flow": null,
      "width": null,
      "min_width": null,
      "border": null,
      "align_items": null,
      "bottom": null,
      "_model_module": "@jupyter-widgets/base",
      "top": null,
      "grid_column": null,
      "overflow_y": null,
      "overflow_x": null,
      "grid_auto_flow": null,
      "grid_area": null,
      "grid_template_columns": null,
      "flex": null,
      "_model_name": "LayoutModel",
      "justify_items": null,
      "grid_row": null,
      "max_height": null,
      "align_content": null,
      "visibility": null,
      "align_self": null,
      "height": null,
      "min_height": null,
      "padding": null,
      "grid_auto_rows": null,
      "grid_gap": null,
      "max_width": null,
      "order": null,
      "_view_module_version": "1.2.0",
      "grid_template_areas": null,
      "object_position": null,
      "object_fit": null,
      "grid_auto_columns": null,
      "margin": null,
      "display": null,
      "left": null
     }
    },
    "15442bc3842447679fb0dc37eab83f60": {
     "model_module": "@jupyter-widgets/controls",
     "model_name": "HTMLModel",
     "model_module_version": "1.5.0",
     "state": {
      "_view_name": "HTMLView",
      "style": "IPY_MODEL_a46f33b599754773abcd3e2901c2d71f",
      "_dom_classes": [],
      "description": "",
      "_model_name": "HTMLModel",
      "placeholder": "​",
      "_view_module": "@jupyter-widgets/controls",
      "_model_module_version": "1.5.0",
      "value": "  5%",
      "_view_count": null,
      "_view_module_version": "1.5.0",
      "description_tooltip": null,
      "_model_module": "@jupyter-widgets/controls",
      "layout": "IPY_MODEL_26605fdb70794b7f82ac566d91717f3c"
     }
    },
    "e94cf58bedb34784be72b9b13fdf0c04": {
     "model_module": "@jupyter-widgets/controls",
     "model_name": "FloatProgressModel",
     "model_module_version": "1.5.0",
     "state": {
      "_view_name": "ProgressView",
      "style": "IPY_MODEL_a09d3e8f4ae14c23b136276ebb5fffc0",
      "_dom_classes": [],
      "description": "",
      "_model_name": "FloatProgressModel",
      "bar_style": "danger",
      "max": 6119,
      "_view_module": "@jupyter-widgets/controls",
      "_model_module_version": "1.5.0",
      "value": 302,
      "_view_count": null,
      "_view_module_version": "1.5.0",
      "orientation": "horizontal",
      "min": 0,
      "description_tooltip": null,
      "_model_module": "@jupyter-widgets/controls",
      "layout": "IPY_MODEL_9b191348b2514a0395379a2eaafacc64"
     }
    },
    "d3b684d894ee4b6991665611c830375f": {
     "model_module": "@jupyter-widgets/controls",
     "model_name": "HTMLModel",
     "model_module_version": "1.5.0",
     "state": {
      "_view_name": "HTMLView",
      "style": "IPY_MODEL_58621c9974184eb69c315f9bf1618dcb",
      "_dom_classes": [],
      "description": "",
      "_model_name": "HTMLModel",
      "placeholder": "​",
      "_view_module": "@jupyter-widgets/controls",
      "_model_module_version": "1.5.0",
      "value": " 302/6119 [00:41&lt;12:37,  7.68it/s]",
      "_view_count": null,
      "_view_module_version": "1.5.0",
      "description_tooltip": null,
      "_model_module": "@jupyter-widgets/controls",
      "layout": "IPY_MODEL_3f787b58afc34f7e86c7365c1f952171"
     }
    },
    "a46f33b599754773abcd3e2901c2d71f": {
     "model_module": "@jupyter-widgets/controls",
     "model_name": "DescriptionStyleModel",
     "model_module_version": "1.5.0",
     "state": {
      "_view_name": "StyleView",
      "_model_name": "DescriptionStyleModel",
      "description_width": "",
      "_view_module": "@jupyter-widgets/base",
      "_model_module_version": "1.5.0",
      "_view_count": null,
      "_view_module_version": "1.2.0",
      "_model_module": "@jupyter-widgets/controls"
     }
    },
    "26605fdb70794b7f82ac566d91717f3c": {
     "model_module": "@jupyter-widgets/base",
     "model_name": "LayoutModel",
     "model_module_version": "1.2.0",
     "state": {
      "_view_name": "LayoutView",
      "grid_template_rows": null,
      "right": null,
      "justify_content": null,
      "_view_module": "@jupyter-widgets/base",
      "overflow": null,
      "_model_module_version": "1.2.0",
      "_view_count": null,
      "flex_flow": null,
      "width": null,
      "min_width": null,
      "border": null,
      "align_items": null,
      "bottom": null,
      "_model_module": "@jupyter-widgets/base",
      "top": null,
      "grid_column": null,
      "overflow_y": null,
      "overflow_x": null,
      "grid_auto_flow": null,
      "grid_area": null,
      "grid_template_columns": null,
      "flex": null,
      "_model_name": "LayoutModel",
      "justify_items": null,
      "grid_row": null,
      "max_height": null,
      "align_content": null,
      "visibility": null,
      "align_self": null,
      "height": null,
      "min_height": null,
      "padding": null,
      "grid_auto_rows": null,
      "grid_gap": null,
      "max_width": null,
      "order": null,
      "_view_module_version": "1.2.0",
      "grid_template_areas": null,
      "object_position": null,
      "object_fit": null,
      "grid_auto_columns": null,
      "margin": null,
      "display": null,
      "left": null
     }
    },
    "a09d3e8f4ae14c23b136276ebb5fffc0": {
     "model_module": "@jupyter-widgets/controls",
     "model_name": "ProgressStyleModel",
     "model_module_version": "1.5.0",
     "state": {
      "_view_name": "StyleView",
      "_model_name": "ProgressStyleModel",
      "description_width": "",
      "_view_module": "@jupyter-widgets/base",
      "_model_module_version": "1.5.0",
      "_view_count": null,
      "_view_module_version": "1.2.0",
      "bar_color": null,
      "_model_module": "@jupyter-widgets/controls"
     }
    },
    "9b191348b2514a0395379a2eaafacc64": {
     "model_module": "@jupyter-widgets/base",
     "model_name": "LayoutModel",
     "model_module_version": "1.2.0",
     "state": {
      "_view_name": "LayoutView",
      "grid_template_rows": null,
      "right": null,
      "justify_content": null,
      "_view_module": "@jupyter-widgets/base",
      "overflow": null,
      "_model_module_version": "1.2.0",
      "_view_count": null,
      "flex_flow": null,
      "width": null,
      "min_width": null,
      "border": null,
      "align_items": null,
      "bottom": null,
      "_model_module": "@jupyter-widgets/base",
      "top": null,
      "grid_column": null,
      "overflow_y": null,
      "overflow_x": null,
      "grid_auto_flow": null,
      "grid_area": null,
      "grid_template_columns": null,
      "flex": null,
      "_model_name": "LayoutModel",
      "justify_items": null,
      "grid_row": null,
      "max_height": null,
      "align_content": null,
      "visibility": null,
      "align_self": null,
      "height": null,
      "min_height": null,
      "padding": null,
      "grid_auto_rows": null,
      "grid_gap": null,
      "max_width": null,
      "order": null,
      "_view_module_version": "1.2.0",
      "grid_template_areas": null,
      "object_position": null,
      "object_fit": null,
      "grid_auto_columns": null,
      "margin": null,
      "display": null,
      "left": null
     }
    },
    "58621c9974184eb69c315f9bf1618dcb": {
     "model_module": "@jupyter-widgets/controls",
     "model_name": "DescriptionStyleModel",
     "model_module_version": "1.5.0",
     "state": {
      "_view_name": "StyleView",
      "_model_name": "DescriptionStyleModel",
      "description_width": "",
      "_view_module": "@jupyter-widgets/base",
      "_model_module_version": "1.5.0",
      "_view_count": null,
      "_view_module_version": "1.2.0",
      "_model_module": "@jupyter-widgets/controls"
     }
    },
    "3f787b58afc34f7e86c7365c1f952171": {
     "model_module": "@jupyter-widgets/base",
     "model_name": "LayoutModel",
     "model_module_version": "1.2.0",
     "state": {
      "_view_name": "LayoutView",
      "grid_template_rows": null,
      "right": null,
      "justify_content": null,
      "_view_module": "@jupyter-widgets/base",
      "overflow": null,
      "_model_module_version": "1.2.0",
      "_view_count": null,
      "flex_flow": null,
      "width": null,
      "min_width": null,
      "border": null,
      "align_items": null,
      "bottom": null,
      "_model_module": "@jupyter-widgets/base",
      "top": null,
      "grid_column": null,
      "overflow_y": null,
      "overflow_x": null,
      "grid_auto_flow": null,
      "grid_area": null,
      "grid_template_columns": null,
      "flex": null,
      "_model_name": "LayoutModel",
      "justify_items": null,
      "grid_row": null,
      "max_height": null,
      "align_content": null,
      "visibility": null,
      "align_self": null,
      "height": null,
      "min_height": null,
      "padding": null,
      "grid_auto_rows": null,
      "grid_gap": null,
      "max_width": null,
      "order": null,
      "_view_module_version": "1.2.0",
      "grid_template_areas": null,
      "object_position": null,
      "object_fit": null,
      "grid_auto_columns": null,
      "margin": null,
      "display": null,
      "left": null
     }
    },
    "5ddbe95d95dd4cf8b9df3dc740ae3013": {
     "model_module": "@jupyter-widgets/controls",
     "model_name": "HBoxModel",
     "model_module_version": "1.5.0",
     "state": {
      "_view_name": "HBoxView",
      "_dom_classes": [],
      "_model_name": "HBoxModel",
      "_view_module": "@jupyter-widgets/controls",
      "_model_module_version": "1.5.0",
      "_view_count": null,
      "_view_module_version": "1.5.0",
      "box_style": "",
      "layout": "IPY_MODEL_77aaab915e814530b5e1390af5a6dd66",
      "_model_module": "@jupyter-widgets/controls",
      "children": [
       "IPY_MODEL_b4943a57f28c427c8792b6471d12692b",
       "IPY_MODEL_89dbe0621d7049779529b85a5ee92ac1",
       "IPY_MODEL_16df42e261d84dd3b1382cff2c041248"
      ]
     }
    },
    "77aaab915e814530b5e1390af5a6dd66": {
     "model_module": "@jupyter-widgets/base",
     "model_name": "LayoutModel",
     "model_module_version": "1.2.0",
     "state": {
      "_view_name": "LayoutView",
      "grid_template_rows": null,
      "right": null,
      "justify_content": null,
      "_view_module": "@jupyter-widgets/base",
      "overflow": null,
      "_model_module_version": "1.2.0",
      "_view_count": null,
      "flex_flow": null,
      "width": null,
      "min_width": null,
      "border": null,
      "align_items": null,
      "bottom": null,
      "_model_module": "@jupyter-widgets/base",
      "top": null,
      "grid_column": null,
      "overflow_y": null,
      "overflow_x": null,
      "grid_auto_flow": null,
      "grid_area": null,
      "grid_template_columns": null,
      "flex": null,
      "_model_name": "LayoutModel",
      "justify_items": null,
      "grid_row": null,
      "max_height": null,
      "align_content": null,
      "visibility": null,
      "align_self": null,
      "height": null,
      "min_height": null,
      "padding": null,
      "grid_auto_rows": null,
      "grid_gap": null,
      "max_width": null,
      "order": null,
      "_view_module_version": "1.2.0",
      "grid_template_areas": null,
      "object_position": null,
      "object_fit": null,
      "grid_auto_columns": null,
      "margin": null,
      "display": null,
      "left": null
     }
    },
    "b4943a57f28c427c8792b6471d12692b": {
     "model_module": "@jupyter-widgets/controls",
     "model_name": "HTMLModel",
     "model_module_version": "1.5.0",
     "state": {
      "_view_name": "HTMLView",
      "style": "IPY_MODEL_d0ff4b9c1bdd46f49676ec4b3b50fec0",
      "_dom_classes": [],
      "description": "",
      "_model_name": "HTMLModel",
      "placeholder": "​",
      "_view_module": "@jupyter-widgets/controls",
      "_model_module_version": "1.5.0",
      "value": " 47%",
      "_view_count": null,
      "_view_module_version": "1.5.0",
      "description_tooltip": null,
      "_model_module": "@jupyter-widgets/controls",
      "layout": "IPY_MODEL_b4abcec3a350402faaf0d4af8113fe27"
     }
    },
    "89dbe0621d7049779529b85a5ee92ac1": {
     "model_module": "@jupyter-widgets/controls",
     "model_name": "FloatProgressModel",
     "model_module_version": "1.5.0",
     "state": {
      "_view_name": "ProgressView",
      "style": "IPY_MODEL_52229d74121e4770905185d51a90c329",
      "_dom_classes": [],
      "description": "",
      "_model_name": "FloatProgressModel",
      "bar_style": "",
      "max": 6119,
      "_view_module": "@jupyter-widgets/controls",
      "_model_module_version": "1.5.0",
      "value": 2863,
      "_view_count": null,
      "_view_module_version": "1.5.0",
      "orientation": "horizontal",
      "min": 0,
      "description_tooltip": null,
      "_model_module": "@jupyter-widgets/controls",
      "layout": "IPY_MODEL_1fe67df427ba4cc384c299110406dbfd"
     }
    },
    "16df42e261d84dd3b1382cff2c041248": {
     "model_module": "@jupyter-widgets/controls",
     "model_name": "HTMLModel",
     "model_module_version": "1.5.0",
     "state": {
      "_view_name": "HTMLView",
      "style": "IPY_MODEL_cfe642dc3b714e77ae0431b3b3b134f5",
      "_dom_classes": [],
      "description": "",
      "_model_name": "HTMLModel",
      "placeholder": "​",
      "_view_module": "@jupyter-widgets/controls",
      "_model_module_version": "1.5.0",
      "value": " 2862/6119 [14:47&lt;15:52,  3.42it/s]",
      "_view_count": null,
      "_view_module_version": "1.5.0",
      "description_tooltip": null,
      "_model_module": "@jupyter-widgets/controls",
      "layout": "IPY_MODEL_1c76b192f780438190ccd118b6ac3adb"
     }
    },
    "d0ff4b9c1bdd46f49676ec4b3b50fec0": {
     "model_module": "@jupyter-widgets/controls",
     "model_name": "DescriptionStyleModel",
     "model_module_version": "1.5.0",
     "state": {
      "_view_name": "StyleView",
      "_model_name": "DescriptionStyleModel",
      "description_width": "",
      "_view_module": "@jupyter-widgets/base",
      "_model_module_version": "1.5.0",
      "_view_count": null,
      "_view_module_version": "1.2.0",
      "_model_module": "@jupyter-widgets/controls"
     }
    },
    "b4abcec3a350402faaf0d4af8113fe27": {
     "model_module": "@jupyter-widgets/base",
     "model_name": "LayoutModel",
     "model_module_version": "1.2.0",
     "state": {
      "_view_name": "LayoutView",
      "grid_template_rows": null,
      "right": null,
      "justify_content": null,
      "_view_module": "@jupyter-widgets/base",
      "overflow": null,
      "_model_module_version": "1.2.0",
      "_view_count": null,
      "flex_flow": null,
      "width": null,
      "min_width": null,
      "border": null,
      "align_items": null,
      "bottom": null,
      "_model_module": "@jupyter-widgets/base",
      "top": null,
      "grid_column": null,
      "overflow_y": null,
      "overflow_x": null,
      "grid_auto_flow": null,
      "grid_area": null,
      "grid_template_columns": null,
      "flex": null,
      "_model_name": "LayoutModel",
      "justify_items": null,
      "grid_row": null,
      "max_height": null,
      "align_content": null,
      "visibility": null,
      "align_self": null,
      "height": null,
      "min_height": null,
      "padding": null,
      "grid_auto_rows": null,
      "grid_gap": null,
      "max_width": null,
      "order": null,
      "_view_module_version": "1.2.0",
      "grid_template_areas": null,
      "object_position": null,
      "object_fit": null,
      "grid_auto_columns": null,
      "margin": null,
      "display": null,
      "left": null
     }
    },
    "52229d74121e4770905185d51a90c329": {
     "model_module": "@jupyter-widgets/controls",
     "model_name": "ProgressStyleModel",
     "model_module_version": "1.5.0",
     "state": {
      "_view_name": "StyleView",
      "_model_name": "ProgressStyleModel",
      "description_width": "",
      "_view_module": "@jupyter-widgets/base",
      "_model_module_version": "1.5.0",
      "_view_count": null,
      "_view_module_version": "1.2.0",
      "bar_color": null,
      "_model_module": "@jupyter-widgets/controls"
     }
    },
    "1fe67df427ba4cc384c299110406dbfd": {
     "model_module": "@jupyter-widgets/base",
     "model_name": "LayoutModel",
     "model_module_version": "1.2.0",
     "state": {
      "_view_name": "LayoutView",
      "grid_template_rows": null,
      "right": null,
      "justify_content": null,
      "_view_module": "@jupyter-widgets/base",
      "overflow": null,
      "_model_module_version": "1.2.0",
      "_view_count": null,
      "flex_flow": null,
      "width": null,
      "min_width": null,
      "border": null,
      "align_items": null,
      "bottom": null,
      "_model_module": "@jupyter-widgets/base",
      "top": null,
      "grid_column": null,
      "overflow_y": null,
      "overflow_x": null,
      "grid_auto_flow": null,
      "grid_area": null,
      "grid_template_columns": null,
      "flex": null,
      "_model_name": "LayoutModel",
      "justify_items": null,
      "grid_row": null,
      "max_height": null,
      "align_content": null,
      "visibility": null,
      "align_self": null,
      "height": null,
      "min_height": null,
      "padding": null,
      "grid_auto_rows": null,
      "grid_gap": null,
      "max_width": null,
      "order": null,
      "_view_module_version": "1.2.0",
      "grid_template_areas": null,
      "object_position": null,
      "object_fit": null,
      "grid_auto_columns": null,
      "margin": null,
      "display": null,
      "left": null
     }
    },
    "cfe642dc3b714e77ae0431b3b3b134f5": {
     "model_module": "@jupyter-widgets/controls",
     "model_name": "DescriptionStyleModel",
     "model_module_version": "1.5.0",
     "state": {
      "_view_name": "StyleView",
      "_model_name": "DescriptionStyleModel",
      "description_width": "",
      "_view_module": "@jupyter-widgets/base",
      "_model_module_version": "1.5.0",
      "_view_count": null,
      "_view_module_version": "1.2.0",
      "_model_module": "@jupyter-widgets/controls"
     }
    },
    "1c76b192f780438190ccd118b6ac3adb": {
     "model_module": "@jupyter-widgets/base",
     "model_name": "LayoutModel",
     "model_module_version": "1.2.0",
     "state": {
      "_view_name": "LayoutView",
      "grid_template_rows": null,
      "right": null,
      "justify_content": null,
      "_view_module": "@jupyter-widgets/base",
      "overflow": null,
      "_model_module_version": "1.2.0",
      "_view_count": null,
      "flex_flow": null,
      "width": null,
      "min_width": null,
      "border": null,
      "align_items": null,
      "bottom": null,
      "_model_module": "@jupyter-widgets/base",
      "top": null,
      "grid_column": null,
      "overflow_y": null,
      "overflow_x": null,
      "grid_auto_flow": null,
      "grid_area": null,
      "grid_template_columns": null,
      "flex": null,
      "_model_name": "LayoutModel",
      "justify_items": null,
      "grid_row": null,
      "max_height": null,
      "align_content": null,
      "visibility": null,
      "align_self": null,
      "height": null,
      "min_height": null,
      "padding": null,
      "grid_auto_rows": null,
      "grid_gap": null,
      "max_width": null,
      "order": null,
      "_view_module_version": "1.2.0",
      "grid_template_areas": null,
      "object_position": null,
      "object_fit": null,
      "grid_auto_columns": null,
      "margin": null,
      "display": null,
      "left": null
     }
    }
   }
  }
 },
 "nbformat": 4,
 "nbformat_minor": 0
}